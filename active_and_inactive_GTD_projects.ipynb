{
 "metadata": {
  "name": ""
 },
 "nbformat": 3,
 "nbformat_minor": 0,
 "worksheets": [
  {
   "cells": [
    {
     "cell_type": "markdown",
     "metadata": {},
     "source": [
      "* listing active projects\n",
      "* associate a tag with active projects\n",
      "* are thee tags all filed properly?\n",
      "\n",
      "Parallel questions for inactive projects"
     ]
    },
    {
     "cell_type": "code",
     "collapsed": false,
     "input": [
      "import settings\n",
      "from evernote.api.client import EvernoteClient\n",
      "import EvernoteWebUtil as ewu\n",
      "\n",
      "reload(ewu)\n",
      "\n",
      "\n",
      "dev_token = settings.authToken\n",
      "client = EvernoteClient(token=dev_token, sandbox=False)\n",
      "\n",
      "userStore = client.get_user_store()\n",
      "user = userStore.getUser()\n",
      "\n",
      "print user.username"
     ],
     "language": "python",
     "metadata": {},
     "outputs": []
    },
    {
     "cell_type": "code",
     "collapsed": false,
     "input": [
      "ewu.notebook(name=\":PROJECTS\")"
     ],
     "language": "python",
     "metadata": {},
     "outputs": []
    },
    {
     "cell_type": "code",
     "collapsed": false,
     "input": [
      "# get all the notes in this notebook...\n",
      "\n",
      "import datetime\n",
      "\n",
      "from itertools import islice\n",
      "notes = list(islice(ewu.notes_metadata(includeTitle=True, \n",
      "                                  includeUpdated=True,\n",
      "                                  includeUpdateSequenceNum=True,\n",
      "                                  notebookGuid=ewu.notebook(name=':PROJECTS').guid), None))\n",
      "\n",
      "plus_tags_set = set()\n",
      "\n",
      "for note in notes:\n",
      "    tags = ewu.noteStore.getNoteTagNames(note.guid)\n",
      "    plus_tags = [tag for tag in tags if tag.startswith(\"+\")]\n",
      "    \n",
      "    plus_tags_set.update(plus_tags)\n",
      "    print note.title, note.updateSequenceNum, datetime.datetime.fromtimestamp(note.updated/1000.),  \\\n",
      "         len(plus_tags) == 1\n",
      "        \n",
      "        \n",
      "    # check that each note has one and only one tag that begins with \"+\"\n",
      "    \n",
      "    "
     ],
     "language": "python",
     "metadata": {},
     "outputs": []
    },
    {
     "cell_type": "code",
     "collapsed": false,
     "input": [
      "len(plus_tags_set)"
     ],
     "language": "python",
     "metadata": {},
     "outputs": []
    },
    {
     "cell_type": "code",
     "collapsed": false,
     "input": [
      "ewu.all_tags()"
     ],
     "language": "python",
     "metadata": {},
     "outputs": []
    },
    {
     "cell_type": "code",
     "collapsed": false,
     "input": [
      "[tag for tag in ewu._tags_by_name.keys() if tag.startswith(\"+\")]"
     ],
     "language": "python",
     "metadata": {},
     "outputs": []
    },
    {
     "cell_type": "code",
     "collapsed": false,
     "input": [
      "len(_)"
     ],
     "language": "python",
     "metadata": {},
     "outputs": []
    },
    {
     "cell_type": "code",
     "collapsed": false,
     "input": [
      "# consolidate into one -- calculate \"+\" tags that are not covered in :PROJECTS notebook\n",
      "\n",
      "import EvernoteWebUtil as ewu\n",
      "reload(ewu)\n",
      "\n",
      "import datetime\n",
      "from itertools import islice\n",
      "\n",
      "\n",
      "all_plus_tags = set(filter(lambda tag: tag.startswith(\"+\"), \n",
      "                       [tag.name for tag in ewu.all_tags(refresh=False)]))\n",
      "\n",
      "\n",
      "projects_notes = list(islice(ewu.notes_metadata(includeTitle=True, \n",
      "                                  includeUpdated=True,\n",
      "                                  includeUpdateSequenceNum=True,\n",
      "                                  notebookGuid=ewu.notebook(name=':PROJECTS').guid), None))\n",
      "\n",
      "project_plus_tags = set()\n",
      "for note in projects_notes:\n",
      "    tags = ewu.noteStore.getNoteTagNames(note.guid)\n",
      "    plus_tags = [tag for tag in tags if tag.startswith(\"+\")]\n",
      "    \n",
      "    project_plus_tags.update(plus_tags)    \n",
      "\n",
      "    \n",
      "all_plus_tags - project_plus_tags"
     ],
     "language": "python",
     "metadata": {},
     "outputs": []
    },
    {
     "cell_type": "code",
     "collapsed": false,
     "input": [
      "for proj_name in (all_plus_tags - project_plus_tags):\n",
      "    print proj_name[1:]"
     ],
     "language": "python",
     "metadata": {},
     "outputs": []
    },
    {
     "cell_type": "code",
     "collapsed": false,
     "input": [
      "# next step:  generate a note in the :PROJECTS notebook with the same tag name (minus the beginning \"+\")\n",
      "# http://dev.evernote.com/doc/articles/creating_notes.php\n",
      "\n",
      "import EvernoteWebUtil as ewu\n",
      "\n",
      "\n",
      "from evernote.edam.type.ttypes import Note\n",
      "\n",
      "# put the note into the :PROJECTS notebook\n",
      "projects_nb_guid = ewu.notebook(name=':PROJECTS').guid\n",
      "\n",
      "\n",
      "note_template = \"\"\"<?xml version=\"1.0\" encoding=\"UTF-8\" standalone=\"no\"?>\n",
      "<!DOCTYPE en-note SYSTEM \"http://xml.evernote.com/pub/enml2.dtd\">\n",
      "<en-note style=\"word-wrap: break-word; -webkit-nbsp-mode: space; -webkit-line-break: after-white-space;\">\n",
      "{0}\n",
      "</en-note>\"\"\"\n",
      "\n",
      "\n",
      "for tag_name in (all_plus_tags - project_plus_tags):\n",
      "    proj_name = tag_name[1:]\n",
      "\n",
      "    note = Note()\n",
      "    note.title = proj_name\n",
      "    note.content = note_template.format(\" \")\n",
      "    note.tagNames = [tag_name]\n",
      "    note.notebookGuid = projects_nb_guid\n",
      "\n",
      "    note = ewu.noteStore.createNote(note)\n"
     ],
     "language": "python",
     "metadata": {},
     "outputs": []
    },
    {
     "cell_type": "code",
     "collapsed": false,
     "input": [],
     "language": "python",
     "metadata": {},
     "outputs": []
    }
   ],
   "metadata": {}
  }
 ]
}