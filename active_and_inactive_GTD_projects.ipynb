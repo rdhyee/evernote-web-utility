{
 "metadata": {
  "name": "",
  "signature": "sha256:0ae9ccd558c4b2f9424c5a03ae5c8af6a20a4195b1d456cf5e7bfd99f63c16a9"
 },
 "nbformat": 3,
 "nbformat_minor": 0,
 "worksheets": [
  {
   "cells": [
    {
     "cell_type": "markdown",
     "metadata": {},
     "source": [
      "* listing active projects\n",
      "* associate a tag with active projects\n",
      "* are thee tags all filed properly?\n",
      "\n",
      "Parallel questions for inactive projects"
     ]
    },
    {
     "cell_type": "code",
     "collapsed": false,
     "input": [
      "import logging\n",
      "\n",
      "import settings\n",
      "from evernote.api.client import EvernoteClient\n",
      "import EvernoteWebUtil as ewu\n",
      "\n",
      "reload(ewu)\n",
      "\n",
      "# logging\n",
      "LOG_FILENAME = 'active_and_inactive_GTD_projects.log'\n",
      "logging.basicConfig(filename=LOG_FILENAME,\n",
      "                    level=logging.DEBUG,\n",
      "                    )\n",
      "\n",
      "\n",
      "dev_token = settings.authToken\n",
      "client = EvernoteClient(token=dev_token, sandbox=False)\n",
      "\n",
      "userStore = client.get_user_store()\n",
      "user = userStore.getUser()\n",
      "\n",
      "print user.username"
     ],
     "language": "python",
     "metadata": {},
     "outputs": []
    },
    {
     "cell_type": "code",
     "collapsed": false,
     "input": [
      "# get all the notes in the :PROJECTS Notebook\n",
      "\n",
      "import datetime\n",
      "from itertools import islice\n",
      "\n",
      "notes = list(islice(ewu.notes_metadata(includeTitle=True, \n",
      "                                  includeUpdated=True,\n",
      "                                  includeUpdateSequenceNum=True,\n",
      "                                  notebookGuid=ewu.notebook(name=':PROJECTS').guid), None))\n",
      "\n",
      "# accumulate all the tags that begin with \"+\" associated with notes in :PROJECTS notebook\n",
      "plus_tags_set = set()\n",
      "\n",
      "for note in notes:\n",
      "    tags = ewu.noteStore.getNoteTagNames(note.guid)\n",
      "    plus_tags = [tag for tag in tags if tag.startswith(\"+\")]\n",
      "    \n",
      "    plus_tags_set.update(plus_tags)\n",
      "    print note.title, note.guid, note.updateSequenceNum, datetime.datetime.fromtimestamp(note.updated/1000.),  \\\n",
      "         len(plus_tags) == 1\n",
      "        \n",
      "        \n",
      "    # TO DO: check that each note has one and only one tag that begins with \"+\"\n",
      "    \n",
      "    "
     ],
     "language": "python",
     "metadata": {},
     "outputs": []
    },
    {
     "cell_type": "code",
     "collapsed": false,
     "input": [
      "len(plus_tags_set)"
     ],
     "language": "python",
     "metadata": {},
     "outputs": []
    },
    {
     "cell_type": "code",
     "collapsed": false,
     "input": [
      "ewu.all_tags()"
     ],
     "language": "python",
     "metadata": {},
     "outputs": []
    },
    {
     "cell_type": "code",
     "collapsed": false,
     "input": [
      "[tag for tag in ewu._tags_by_name.keys() if tag.startswith(\"+\")]"
     ],
     "language": "python",
     "metadata": {},
     "outputs": []
    },
    {
     "cell_type": "code",
     "collapsed": false,
     "input": [
      "len(_)"
     ],
     "language": "python",
     "metadata": {},
     "outputs": []
    },
    {
     "cell_type": "code",
     "collapsed": false,
     "input": [
      "# consolidate into one -- calculate \"+\" tags that are not covered in :PROJECTS notebook\n",
      "\n",
      "import EvernoteWebUtil as ewu\n",
      "reload(ewu)\n",
      "\n",
      "import datetime\n",
      "from itertools import islice\n",
      "\n",
      "\n",
      "all_plus_tags = set(filter(lambda tag: tag.startswith(\"+\"), \n",
      "                       [tag.name for tag in ewu.all_tags(refresh=False)]))\n",
      "\n",
      "\n",
      "projects_notes = list(islice(ewu.notes_metadata(includeTitle=True, \n",
      "                                  includeUpdated=True,\n",
      "                                  includeUpdateSequenceNum=True,\n",
      "                                  notebookGuid=ewu.notebook(name=':PROJECTS').guid), None))\n",
      "\n",
      "project_plus_tags = set()\n",
      "for note in projects_notes:\n",
      "    tags = ewu.noteStore.getNoteTagNames(note.guid)\n",
      "    plus_tags = [tag for tag in tags if tag.startswith(\"+\")]\n",
      "    \n",
      "    project_plus_tags.update(plus_tags)    \n",
      "\n",
      "    \n",
      "all_plus_tags - project_plus_tags"
     ],
     "language": "python",
     "metadata": {},
     "outputs": []
    },
    {
     "cell_type": "code",
     "collapsed": false,
     "input": [
      "for proj_name in (all_plus_tags - project_plus_tags):\n",
      "    print proj_name[1:]"
     ],
     "language": "python",
     "metadata": {},
     "outputs": []
    },
    {
     "cell_type": "code",
     "collapsed": false,
     "input": [
      "# next step:  generate a note in the :PROJECTS notebook with the same tag name (minus the beginning \"+\")\n",
      "# http://dev.evernote.com/doc/articles/creating_notes.php\n",
      "\n",
      "import EvernoteWebUtil as ewu\n",
      "\n",
      "from evernote.edam.type.ttypes import Note\n",
      "\n",
      "# put the note into the :PROJECTS notebook\n",
      "projects_nb_guid = ewu.notebook(name=':PROJECTS').guid\n",
      "\n",
      "\n",
      "note_template = \"\"\"<?xml version=\"1.0\" encoding=\"UTF-8\" standalone=\"no\"?>\n",
      "<!DOCTYPE en-note SYSTEM \"http://xml.evernote.com/pub/enml2.dtd\">\n",
      "<en-note style=\"word-wrap: break-word; -webkit-nbsp-mode: space; -webkit-line-break: after-white-space;\">\n",
      "{0}\n",
      "</en-note>\"\"\"\n",
      "\n",
      "\n",
      "for tag_name in (all_plus_tags - project_plus_tags):\n",
      "    proj_name = tag_name[1:]\n",
      "    note = ewu.create_note(proj_name, \" \", tagNames=[tag_name], notebook_guid=projects_nb_guid)\n",
      "\n"
     ],
     "language": "python",
     "metadata": {},
     "outputs": []
    },
    {
     "cell_type": "markdown",
     "metadata": {},
     "source": [
      "# utility for deactivating an active project\n",
      "\n",
      "Steps:\n",
      "\n",
      "* rename tag \"+TagName\" to \"-TagName\"  (checking for possible name collision)\n",
      "* move the new tag to be a child of the .Inactive Projects tag\n",
      "* move the note to Projects Retired"
     ]
    },
    {
     "cell_type": "code",
     "collapsed": false,
     "input": [
      "# all children of \".Active Projects\" tag\n",
      "\n",
      "[tag for tag in ewu.all_tags() if tag.parentGuid == ewu.tag(name=\".Active Projects\").guid]"
     ],
     "language": "python",
     "metadata": {},
     "outputs": []
    },
    {
     "cell_type": "code",
     "collapsed": false,
     "input": [
      "# make sure that + tags have the right parent (.Active Projects)\n",
      "\n",
      "active_projects_tag = ewu.tag(name=\".Active Projects\")\n",
      "inactive_projects_tag = ewu.tag(name=\".Inactive Projects\")\n",
      "\n",
      "wayward_plus_tags = [tag for tag in ewu.all_tags(refresh=True) if tag.name.startswith(\"+\") and tag.parentGuid != active_projects_tag.guid]\n",
      "for tag in wayward_plus_tags:\n",
      "    print tag.name\n",
      "    tag.parentGuid = active_projects_tag.guid\n",
      "    ewu.noteStore.updateTag(tag)"
     ],
     "language": "python",
     "metadata": {},
     "outputs": []
    },
    {
     "cell_type": "code",
     "collapsed": false,
     "input": [
      "# get all the .When tags\n",
      "\n",
      "from collections import defaultdict\n",
      "\n",
      "when_tags = [tag for tag in ewu.all_tags(refresh=True) if tag.parentGuid == ewu.tag(name=\".When\").guid]\n",
      "when_tags_guids = set([tag.guid for tag in when_tags])\n",
      "when_tags_guids\n",
      "\n",
      "note_tags = defaultdict(list)\n",
      "\n",
      "action_notes = list(islice(ewu.notes_metadata(includeTitle=True, \n",
      "                                  includeUpdated=True,\n",
      "                                  includeUpdateSequenceNum=True,\n",
      "                                  includeTagGuids=True,\n",
      "                                  notebookGuid=ewu.notebook(name='Action Pending').guid), None))\n",
      "\n",
      "# tags that have no .When tags whatsover\n",
      "# ideally -- each action has one and only one .When tag\n",
      "\n",
      "for note in action_notes:\n",
      "    tag_guids = note.tagGuids\n",
      "    \n",
      "    if tag_guids is None:\n",
      "        tag_guids = []\n",
      "        \n",
      "    tag_names = [ewu.tag(guid=g).name for g in tag_guids]\n",
      "    for tag_name in tag_names:\n",
      "        note_tags[tag_name].append(note)\n",
      "        \n",
      "    if len(tag_guids) == 0:\n",
      "        note_tags['__UNTAGGED__'].append(note)\n",
      "        \n",
      "\n",
      "note_tags.keys()\n",
      "    \n"
     ],
     "language": "python",
     "metadata": {},
     "outputs": []
    },
    {
     "cell_type": "code",
     "collapsed": false,
     "input": [
      "\n",
      "# deal with untagged notes\n",
      "# note_tags['__UNTAGGED__']\n",
      "\n",
      "\n",
      "# look at tags that begin with \"-\"\n",
      "# how to retire an action?\n",
      "\n",
      "# let's do some stuff by hand and then look at programming\n",
      "\n",
      "\n",
      "to_clean = [t for t in note_tags.keys() if t.startswith(\"-\")]\n",
      "to_clean"
     ],
     "language": "python",
     "metadata": {},
     "outputs": []
    },
    {
     "cell_type": "code",
     "collapsed": false,
     "input": [
      "# open up a local view with\n",
      "\n",
      "#evnote.open_collection_window(**{'with_query_string':\"Bach\"})\n",
      "evnote.open_collection_window(with_query_string = '''notebook:\"Action Pending\" tag:\"{0}\"'''.format(to_clean[5]))"
     ],
     "language": "python",
     "metadata": {},
     "outputs": []
    },
    {
     "cell_type": "markdown",
     "metadata": {},
     "source": [
      "# How to retire an action\n",
      "\n",
      "* strip action of all .when tags\n",
      "* move action to Retired Action Notebook / Reference\n",
      "\n"
     ]
    },
    {
     "cell_type": "code",
     "collapsed": false,
     "input": [
      "# we can take the ids that come from AppleScript and get the local folder location\n",
      "# /Users/raymondyee/Library/Application Support/Evernote/accounts/Evernote/rdhyee/content/p11026/content.html\n",
      "\n",
      "#path = \"/Users/raymondyee/Library/Application Support/Evernote/accounts/Evernote/rdhyee/content/{0}/content.enml\".format(note.id().split(\"/\")[-1])\n",
      "#path"
     ],
     "language": "python",
     "metadata": {},
     "outputs": []
    },
    {
     "cell_type": "code",
     "collapsed": false,
     "input": [
      "# with the exact title, you can look up the note, though it won't necessarily be unique.\n",
      "\n",
      "list(ewu.notes(\"summarizing my attempts so far to access race/ethnicity data from 2010 Census\"))"
     ],
     "language": "python",
     "metadata": {},
     "outputs": []
    },
    {
     "cell_type": "code",
     "collapsed": false,
     "input": [
      "\n",
      "reload(ewu)\n",
      "\n",
      "ewu.web_api_notes_from_selection()"
     ],
     "language": "python",
     "metadata": {},
     "outputs": []
    },
    {
     "cell_type": "code",
     "collapsed": false,
     "input": [
      "# take selection and strip out the when tags\n",
      "\n",
      "reload(ewu)\n",
      "    \n",
      "ewu.strip_when_tags_move_to_ref_nb_for_selection()"
     ],
     "language": "python",
     "metadata": {},
     "outputs": []
    },
    {
     "cell_type": "code",
     "collapsed": false,
     "input": [
      "# look for stray actions: ones that are tied to retired projects or yet to be activated projects\n",
      "\n",
      "action_notes = list(islice(ewu.notes_metadata(includeTitle=True, \n",
      "                                  includeUpdated=True,\n",
      "                                  includeUpdateSequenceNum=True,\n",
      "                                  notebookGuid=ewu.notebook(name='Action Pending').guid), None))\n",
      "\n",
      "len(action_notes)\n",
      "\n",
      "# accumulate tags and compute a dict of tag -> notes, including notes with no project tag\n",
      "\n"
     ],
     "language": "python",
     "metadata": {},
     "outputs": []
    },
    {
     "cell_type": "code",
     "collapsed": false,
     "input": [
      "list(ewu.actions_for_project(\"+ProgrammableWeb\"))"
     ],
     "language": "python",
     "metadata": {},
     "outputs": []
    },
    {
     "cell_type": "code",
     "collapsed": false,
     "input": [
      "# grab active project tags of selected item \n",
      "\n",
      "\n",
      "ewu.project_tags_for_selected()"
     ],
     "language": "python",
     "metadata": {},
     "outputs": []
    },
    {
     "cell_type": "code",
     "collapsed": false,
     "input": [
      "# for each of the selected projects, print out actions\n",
      "\n",
      "for proj_tag in ewu.project_tags_for_selected():\n",
      "    print proj_tag\n",
      "    for n in list(ewu.actions_for_project(proj_tag)):\n",
      "        print n.title\n",
      "    print "
     ],
     "language": "python",
     "metadata": {},
     "outputs": []
    },
    {
     "cell_type": "code",
     "collapsed": false,
     "input": [
      "from itertools import islice\n",
      "import appscript\n",
      "\n",
      "for proj_tag in islice(ewu.project_tags_for_selected(),1):\n",
      "    retire_project(proj_tag, ignore_actions=False)\n",
      "    \n",
      "    "
     ],
     "language": "python",
     "metadata": {},
     "outputs": []
    },
    {
     "cell_type": "code",
     "collapsed": false,
     "input": [
      "ewu.strip_when_tags_move_to_ref_nb_for_selection()"
     ],
     "language": "python",
     "metadata": {},
     "outputs": []
    },
    {
     "cell_type": "code",
     "collapsed": false,
     "input": [
      "def retire_project(tag_name,\n",
      "                   ignore_actions=False,\n",
      "                   dry_run=False, \n",
      "                   display_remaining_actions=True):\n",
      "    \n",
      "    \"\"\"\n",
      "    Retire the project represented by tag_name\n",
      "    \"\"\"\n",
      "    tag = ewu.tag(name=tag_name)\n",
      "    \n",
      "    # make sure tag_name starts with \"+\"\n",
      "    if not tag_name.startswith(\"+\"):\n",
      "        return tag\n",
      "    \n",
      "    # if ignore_actions is False, check whether are still associated actions for the project. \n",
      "    # if there are actions, then don't retire project.  Optionally display actions in Evernote\n",
      "    if not ignore_actions:\n",
      "        associated_actions = list(ewu.actions_for_project(tag_name))\n",
      "        if len(associated_actions):\n",
      "            if display_remaining_actions:\n",
      "                from appscript import app\n",
      "                evnote = app('Evernote')\n",
      "                evnote.open_collection_window(with_query_string = '''notebook:\"Action Pending\" tag:\"{0}\"'''.format(tag_name))\n",
      "                \n",
      "            return tag_name\n",
      "    \n",
      "    \n",
      "    # before just trying to turn the + to a -, check for existence of the new name.\n",
      "    # if the new name exists, we would delete the + tag and apply the - tag to the notes tied to the\n",
      "    # + tag\n",
      "    \n",
      "    # let's take care of the simple case first\n",
      "\n",
      "    # do I have logic for finding all notes that have a given tag? \n",
      "    # tagging a set of notes with a given tag?\n",
      "\n",
      "    retired_tag_name = \"-\" + tag_name[1:]\n",
      "    \n",
      "    if ewu.tag(retired_tag_name) is None:\n",
      "        tag.name = retired_tag_name\n",
      "    else:\n",
      "        raise Exception(\"{0} already exists\".format(retired_tag_name))\n",
      "\n",
      "    # change parent reference\n",
      "    tag.parentGuid = ewu.tag('.Inactive Projects').guid\n",
      "\n",
      "    # move the project note (if it exists) from the project notebook to the retired project notebook\n",
      "\n",
      "    project_notes = ewu.notes_metadata(includeTitle=True, includeNotebookGuid=True, \n",
      "                            tagGuids = [tag.guid],\n",
      "                            notebookGuid=ewu.notebook(name=':PROJECTS').guid)\n",
      "\n",
      "    # with NoteMetadata, how to make change to the corresponding note?\n",
      "    # make use of \n",
      "    # http://dev.evernote.com/doc/reference/NoteStore.html#Fn_NoteStore_updateNote\n",
      "\n",
      "    for note in project_notes:\n",
      "        note.notebookGuid = ewu.notebook(name=\":PROJECTS--RETIRED\").guid\n",
      "        ewu.noteStore.updateNote(note)\n",
      "        \n",
      "    # deal with the associated actions for the project\n",
      "\n",
      "    # apply changes to tag\n",
      "    ewu.noteStore.updateTag(tag)\n",
      "    \n",
      "    return tag\n",
      "\n"
     ],
     "language": "python",
     "metadata": {},
     "outputs": []
    },
    {
     "cell_type": "code",
     "collapsed": false,
     "input": [
      "# first the project note\n",
      "\n",
      "project_notes = list(ewu.notes_metadata(includeTitle=True, includeNotebookGuid=True, \n",
      "                        tagGuids = [hackfsm_tag.guid],\n",
      "                        notebookGuid=ewu.notebook(name=':PROJECTS').guid))\n",
      "\n",
      "# with NoteMetadata, how to make change to the corresponding note?\n",
      "# make use of \n",
      "# http://dev.evernote.com/doc/reference/NoteStore.html#Fn_NoteStore_updateNote\n",
      "\n",
      "for note in project_notes:\n",
      "    print note\n",
      "    note.notebookGuid = ewu.notebook(name=\":PROJECTS--RETIRED\").guid\n",
      "    \n"
     ],
     "language": "python",
     "metadata": {},
     "outputs": []
    },
    {
     "cell_type": "heading",
     "level": 1,
     "metadata": {},
     "source": [
      "Practice making an :INBOX and moving it to :REFERENCE notebook"
     ]
    },
    {
     "cell_type": "code",
     "collapsed": false,
     "input": [
      "# let's practice moving notes between notebooks.\n",
      "# create a new note in :INBOX\n",
      "\n",
      "reload(ewu)\n",
      "import datetime\n",
      "\n",
      "note = ewu.create_note(title=\"hello1: {0}\".format(datetime.datetime.now().isoformat()), \n",
      "                       content = \"\"\"I want some <b>bold</b> action.\u00a0\n",
      "<div>I want some <i>italics</i> performance.</div>\"\"\",\n",
      "                       tagNames= ['testing', 'ipynb-generated'],\n",
      "                       notebookGuid=ewu.notebook(name=':INBOX').guid)\n",
      "\n",
      "note"
     ],
     "language": "python",
     "metadata": {},
     "outputs": []
    },
    {
     "cell_type": "code",
     "collapsed": false,
     "input": [
      "# and then move it to :REFERENCE\n",
      "# http://dev.evernote.com/doc/reference/NoteStore.html#Fn_NoteStore_updateNote\n",
      "\n",
      "note.notebookGuid = ewu.notebook(name=':REFERENCE').guid\n",
      "ewu.noteStore.updateNote(note)\n"
     ],
     "language": "python",
     "metadata": {},
     "outputs": []
    },
    {
     "cell_type": "code",
     "collapsed": false,
     "input": [
      "ewu.notebook(name=\":PROJECTS--RETIRED\")"
     ],
     "language": "python",
     "metadata": {},
     "outputs": []
    }
   ],
   "metadata": {}
  }
 ]
}