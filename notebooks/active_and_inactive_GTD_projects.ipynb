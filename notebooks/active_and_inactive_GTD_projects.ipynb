{
 "cells": [
  {
   "cell_type": "markdown",
   "metadata": {},
   "source": [
    "* listing active projects\n",
    "* associate a tag with active projects\n",
    "* are thee tags all filed properly?\n",
    "\n",
    "Parallel questions for inactive projects"
   ]
  },
  {
   "cell_type": "code",
   "execution_count": 1,
   "metadata": {},
   "outputs": [
    {
     "name": "stdout",
     "output_type": "stream",
     "text": [
      "rdhyee\n"
     ]
    }
   ],
   "source": [
    "import logging\n",
    "\n",
    "import settings\n",
    "import base64\n",
    "from evernote.api.client import EvernoteClient\n",
    "import EvernoteWebUtil as ewu\n",
    "\n",
    "token = settings.authToken2\n",
    "ewu.init(token)\n",
    "\n",
    "\n",
    "#reload(ewu)\n",
    "\n",
    "\n",
    "# logging\n",
    "LOG_FILENAME = 'active_and_inactive_GTD_projects.log'\n",
    "logging.basicConfig(filename=LOG_FILENAME,\n",
    "                    level=logging.DEBUG,\n",
    "                    )\n",
    "\n",
    "\n",
    "client = EvernoteClient(token=token, sandbox=False)\n",
    "\n",
    "userStore = client.get_user_store()\n",
    "user = userStore.getUser()\n",
    "\n",
    "print(user.username)"
   ]
  },
  {
   "cell_type": "code",
   "execution_count": 2,
   "metadata": {},
   "outputs": [],
   "source": [
    "import ENML2HTML\n",
    "from ENML2HTML import MediaStore, hex_decode\n",
    "\n",
    "class OSFMediaStore(MediaStore):\n",
    "    def __init__(self, note_store, note_guid, note=None):\n",
    "        super(OSFMediaStore, self).__init__(note_store, note_guid)\n",
    "\n",
    "        self.note = note\n",
    "        self.resources_by_id = dict()\n",
    "        \n",
    "        if (note is not None) and (note.resources is not None):\n",
    "            self.resources_by_id = dict([(resource.data.bodyHash, resource) for resource in self.note.resources])\n",
    "        \n",
    "    def _get_resource_by_hash(self, hash_str):\n",
    "        \"\"\"\n",
    "        get resource by its hash\n",
    "        \"\"\"\n",
    "\n",
    "        hash_bin = hex_decode(hash_str)\n",
    "        \n",
    "        if hash_bin in self.resources_by_id:\n",
    "            resource = self.resources_by_id[hash_bin]\n",
    "        else:\n",
    "            resource = self.note_store.getResourceByHash(self.note_guid, hash_bin, True, False, False)\n",
    "\n",
    "        return resource.data.body\n",
    "\n",
    "    def save(self, hash_str, mime_type):\n",
    "        # hash_str is the hash digest string of the resource file\n",
    "        # mime_type is the mime_type of the resource that is about to be saved\n",
    "        # you can get the mime type to file extension mapping by accessing the dict MIME_TO_EXTENSION_MAPPING\n",
    "\n",
    "        # retrieve the binary data\n",
    "        \n",
    "\n",
    "        data = self._get_resource_by_hash(hash_str)\n",
    "\n",
    "        # some saving operation [ not needed for embedding into data URI]\n",
    "\n",
    "        # return the URL of the resource that has just been saved\n",
    "        # convert content to data:uri\n",
    "        # https://gist.github.com/jsocol/1089733\n",
    "\n",
    "        data64 = u''.join([row.decode('utf-8') for row in base64.encodestring(data).splitlines()])\n",
    "        return u'data:{};base64,{}'.format(mime_type, data64)"
   ]
  },
  {
   "cell_type": "markdown",
   "metadata": {},
   "source": [
    "# optimize the downloading of resources for a specific note"
   ]
  },
  {
   "cell_type": "markdown",
   "metadata": {},
   "source": [
    "# list of all notebooks"
   ]
  },
  {
   "cell_type": "code",
   "execution_count": 3,
   "metadata": {},
   "outputs": [
    {
     "name": "stdout",
     "output_type": "stream",
     "text": [
      "RY Journal\n",
      ":INBOX\n",
      ":REFERENCE\n",
      ":PROJECTS\n",
      ":CORE\n",
      "Action Pending\n",
      "Completed\n",
      "Working with Open Data 2013\n",
      ":PROJECTS--RETIRED\n",
      ":PUBLISHABLE\n",
      ":PROJECTS--POTENTIAL\n",
      ":PUBLISHED\n",
      "UCD Talk\n",
      "Laura's writing\n",
      ":JOURNAL\n",
      "Retired Action\n",
      "Skitch\n",
      "Raymond Yee's Notebook\n",
      "OSF Notebook\n",
      "NYT Cooking\n",
      "Postach.io\n",
      "PIM2020\n",
      "Review\n"
     ]
    }
   ],
   "source": [
    "notebooks = ewu.noteStore.listNotebooks()\n",
    "\n",
    "for n in notebooks:\n",
    "    print (n.name)"
   ]
  },
  {
   "cell_type": "code",
   "execution_count": 4,
   "metadata": {
    "collapsed": true
   },
   "outputs": [],
   "source": [
    "# let me download all the notes from a notebook\n",
    "\n",
    "from itertools import islice\n",
    "nb_notes = ewu.notes_metadata(includeTitle=True, \n",
    "                                  includeUpdated=True,\n",
    "                                  includeUpdateSequenceNum=True,\n",
    "                                  notebookGuid=ewu.notebook(name=':REFERENCE').guid)\n"
   ]
  },
  {
   "cell_type": "code",
   "execution_count": 14,
   "metadata": {
    "collapsed": true
   },
   "outputs": [],
   "source": [
    "def note_to_html(ewu, client, note_guid):\n",
    "    note = ewu.get_note(note_guid,\n",
    "                withContent=True,\n",
    "                withResourcesData=True)\n",
    "    \n",
    "    note_store = client.get_note_store()\n",
    "    mediaStore = OSFMediaStore(note_store, nm.guid, note)\n",
    "    \n",
    "    html = ENML2HTML.ENMLToHTML(note.content, pretty=True, header=False,\n",
    "                     media_store=mediaStore)\n",
    "    \n",
    "    return html\n",
    "    "
   ]
  },
  {
   "cell_type": "code",
   "execution_count": 15,
   "metadata": {},
   "outputs": [
    {
     "data": {
      "text/plain": [
       "[NoteMetadata(updated=1367023696000, created=None, deleted=None, contentLength=None, title='boot-camps/python at 2013-04-ucb \\xc2\\xb7 swcarpentry/boot-camps \\xc2\\xb7 GitHub', notebookGuid=None, updateSequenceNum=22191, tagGuids=None, largestResourceMime=None, attributes=None, guid='bd97615e-6fee-44b0-ba03-3860f1806f11', largestResourceSize=None)]"
      ]
     },
     "execution_count": 15,
     "metadata": {},
     "output_type": "execute_result"
    }
   ],
   "source": [
    "notes = list(ewu.notes(title='boot-camps/python at 2013-04-ucb · swcarpentry/boot-camps · GitHub'))\n",
    "notes"
   ]
  },
  {
   "cell_type": "code",
   "execution_count": 13,
   "metadata": {},
   "outputs": [
    {
     "data": {
      "text/plain": [
       "'bd97615e-6fee-44b0-ba03-3860f1806f11'"
      ]
     },
     "execution_count": 13,
     "metadata": {},
     "output_type": "execute_result"
    }
   ],
   "source": [
    "notes[0].guid"
   ]
  },
  {
   "cell_type": "code",
   "execution_count": null,
   "metadata": {
    "collapsed": true
   },
   "outputs": [],
   "source": [
    "note = ewu.notes"
   ]
  },
  {
   "cell_type": "code",
   "execution_count": null,
   "metadata": {
    "collapsed": true
   },
   "outputs": [],
   "source": [
    "note = ewu.get_note"
   ]
  },
  {
   "cell_type": "code",
   "execution_count": 16,
   "metadata": {},
   "outputs": [
    {
     "data": {
      "text/plain": [
       "'<div>\\n <br clear=\"none\"/>\\n <div style=\"position: relative\">\\n  <div style=\"font-size: 16px\">\\n   <div style=\"overflow-y:scroll;\">\\n    <div style=\"font-style:normal;font-variant:normal;font-weight:normal;font-size:13px;font-family:Helvetica, arial, freesans, clean, sans-serif;line-height:1.4;background-color:rgb(255, 255, 255);color:rgb(51, 51, 51);-webkit-user-select:auto;\">\\n     <div>\\n      <div>\\n       <div>\\n        <div>\\n         <div style=\"overflow:hidden;\">\\n          <div style=\"min-height:669px;\">\\n           <div>\\n            <div style=\"background-color:rgb(238, 238, 238);border-top-left-radius:3px;border-top-right-radius:3px;border-bottom-right-radius:3px;border-bottom-left-radius:3px;\">\\n             <span style=\"margin:0px;padding:10px;border:0px;font-size:16px;line-height:20px;font-weight:bold;color:rgb(85, 85, 85);text-shadow:rgb(255, 255, 255) 0px 1px 0px;display:block;border-width:1px 1px 0px;border-style:solid solid none;border-top-color:rgb(202, 202, 202);border-right-color:rgb(202, 202, 202);border-left-color:rgb(202, 202, 202);background-color:rgb(234, 234, 234);background-image:linear-gradient(rgb(250, 250, 250), rgb(234, 234, 234));background-repeat:repeat no-repeat;\">\\n              <span style=\"margin:0px;padding:0px;border:0px;font-family:\\'Octicons Regular\\';font-weight:normal;font-style:normal;display:inline-block;-webkit-font-smoothing:antialiased;line-height:1;text-decoration:none;font-size:16px;width:16px;height:16px;\">\\n               <span style=\"font-family:\\'Octicons Regular\\';font-weight:normal;font-style:normal;line-height:1;font-size:16px;\">\\n                \\xef\\x80\\x87\\n               </span>\\n              </span>\\n              README.md\\n             </span>\\n             <div style=\"margin:0px;padding:30px;border:1px solid rgb(202, 202, 202);display:block;font-size:14px;line-height:1.6;overflow:hidden;background-color:rgb(255, 255, 255);\">\\n              <h1 style=\"margin:20px 0px 10px;padding:0px;border:0px;font-weight:bold;-webkit-font-smoothing:antialiased;cursor:text;position:relative;font-size:28px;color:rgb(0, 0, 0);margin-top:0px;padding-top:0px;\">\\n               <a href=\"https://github.com/swcarpentry/boot-camps/tree/2013-04-ucb/python#scientific-python-basics\" name=\"scientific-python-basics\" shape=\"rect\" style=\"margin:0px;padding:0px;border:0px;color:rgb(65, 131, 196);text-decoration:none;display:block;padding-left:30px;margin-left:-30px;cursor:pointer;position:absolute;top:0px;left:0px;bottom:0px;\">\\n               </a>\\n               Scientific Python Basics\\n              </h1>\\n              <h2 style=\"margin:20px 0px 10px;padding:0px;border:0px;font-weight:bold;-webkit-font-smoothing:antialiased;cursor:text;position:relative;font-size:24px;border-bottom-width:1px;border-bottom-style:solid;border-bottom-color:rgb(204, 204, 204);color:rgb(0, 0, 0);margin-top:0px;padding-top:0px;\">\\n               <a href=\"https://github.com/swcarpentry/boot-camps/tree/2013-04-ucb/python#goals\" name=\"goals\" shape=\"rect\" style=\"margin:0px;padding:0px;border:0px;color:rgb(65, 131, 196);text-decoration:none;display:block;padding-left:30px;margin-left:-30px;cursor:pointer;position:absolute;top:0px;left:0px;bottom:0px;\">\\n               </a>\\n               Goals\\n              </h2>\\n              <p style=\"margin:15px 0px;padding:0px;border:0px;margin-top:0px;\">\\n               Despite what the title above might suggest, the purpose of this Software \\nCarpentry bootcamp is\\n               <strong style=\"margin:0px;padding:0px;border:0px;font-weight:bold;\">\\n                not\\n               </strong>\\n               to teach you how to program in Python. While we \\ndo love Python for scientific computing, the goals of these modules is actually \\nto teach you the basic, core concepts of programming that transcend languages, \\nhow they fit together, and how you can use them to become a better scientist.\\n              </p>\\n              <p style=\"margin:15px 0px;padding:0px;border:0px;\">\\n               By the end of these scientific Python lessons, you will be able to:\\n              </p>\\n              <ol style=\"margin:15px 0px;padding:0px;border:0px;padding-left:30px;\">\\n               <li style=\"margin:0px;padding:0px;border:0px;\">\\n                Describe and distinguish the seven core elements shared by all programming \\nlanguages.\\n               </li>\\n               <li style=\"margin:0px;padding:0px;border:0px;\">\\n                Use Python to write simple programs that use these core elements, using \\nboth the core library and scientific packages such as numpy.\\n               </li>\\n               <li style=\"margin:0px;padding:0px;border:0px;\">\\n                Make and save simple publication-quality plots using matplotlib.\\n               </li>\\n               <li style=\"margin:0px;padding:0px;border:0px;\">\\n                Read, manipulate, and save data files in csv and text formats.\\n               </li>\\n               <li style=\"margin:0px;padding:0px;border:0px;\">\\n                Write unit tests to confirm the accuracy of your Python code.\\n               </li>\\n               <li style=\"margin:0px;padding:0px;border:0px;\">\\n                Create standalone Python scripts that can be run from the command line.\\n               </li>\\n              </ol>\\n              <p style=\"margin:15px 0px;padding:0px;border:0px;\">\\n               We (the instructors) recognize that you all unavoidably have come with very \\ndifferent levels of background in Python programming. We expect that some of \\nyou might be experienced in basic Python and a few of you of you have \\nexperience with additional modules such as numpy and scipy - for those in that \\ncategory, this section of the workshop may not be as novel as the other \\nsections. However, we hope that the method of presentation will help to \\nsolidify your existing knowledge. We also encourage you to take the opportunity \\nto ask the instructors and volunteers about more advanced techniques that you \\nmight have heard of but do not know how to use well.\\n              </p>\\n              <p style=\"margin:15px 0px;padding:0px;border:0px;\">\\n               For those who have no (or almost no) background in programming in any language, \\nyou may find that these lessons proceed quickly. We encourage you to make \\nliberal use of the helpful volunteers as we proceed through these lessons. You \\nmay also wish to consider working together with a partner to complete the \\nexercises as a team.\\n              </p>\\n              <p style=\"margin:15px 0px;padding:0px;border:0px;\">\\n               Regardless of your background, you will probably feel like trying to take in \\nall of this material is like trying to drink from a firehose. That\\'s OK - the \\nidea is to at least introduce you to a wide variety of topics, with the hope \\nthat you (a) will get to reinforce the most important concepts during \\nexercises, and (b) will be able to come back to these materials later to \\ncontinue mastering the concepts.\\n              </p>\\n              <p style=\"margin:15px 0px;padding:0px;border:0px;\">\\n               As an analogy for our overall strategy for teaching Python, picture becoming a \\nscientific programmer as constructing a house. First you pour the foundation, \\nthen you frame the house with wood beams, then you put on a roof, seal it up, \\nand furnish it (or something like that). We are hoping that many of you have \\narrived today with the foundation already poured - that is, you understand \\nbasically how to get some things done using small scripts or programs in some \\nlanguage. In these lessons, we will mostly focus on constructing the frame of \\nthe house together by putting in place the major structures and concepts that \\nsupport all scientific programs. Once the workshop is over, you\\'ll need to go \\nout on your own and fill in this structure with drywall, insulation, and a \\ncouch. (We\\'ll try to point out some useful fixtures that you might want to add \\nto your house as we go along.)\\n              </p>\\n              <h2 style=\"margin:20px 0px 10px;padding:0px;border:0px;font-weight:bold;-webkit-font-smoothing:antialiased;cursor:text;position:relative;font-size:24px;border-bottom-width:1px;border-bottom-style:solid;border-bottom-color:rgb(204, 204, 204);color:rgb(0, 0, 0);\">\\n               <a href=\"https://github.com/swcarpentry/boot-camps/tree/2013-04-ucb/python#the-seven-core-concepts\" name=\"the-seven-core-concepts\" shape=\"rect\" style=\"margin:0px;padding:0px;border:0px;color:rgb(65, 131, 196);text-decoration:none;display:block;padding-left:30px;margin-left:-30px;cursor:pointer;position:absolute;top:0px;left:0px;bottom:0px;\">\\n               </a>\\n               The Seven Core Concepts\\n              </h2>\\n              <p style=\"margin:15px 0px;padding:0px;border:0px;margin-top:0px;\">\\n               As noted by Greg Wilson (the founder of Software Carpentry), every programming \\nlanguage shares\\n               <a href=\"http://software-carpentry.org/2012/08/applying-pedagogical-principles-in-this-course/\" shape=\"rect\" style=\"margin:0px;padding:0px;border:0px;color:rgb(65, 131, 196);text-decoration:none;\">\\n                seven core elements\\n               </a>\\n               :\\n              </p>\\n              <ol style=\"margin:15px 0px;padding:0px;border:0px;padding-left:30px;\">\\n               <li style=\"margin:0px;padding:0px;border:0px;\">\\n                Individual things (the number 2, the string \\'hello\\', a matplotlib figure)\\n               </li>\\n               <li style=\"margin:0px;padding:0px;border:0px;\">\\n                Commands that operate on things (the + symbol, the\\n                <code style=\"margin:0px 2px;padding:0px 5px;border:1px solid rgb(234, 234, 234);font-size:12px;font-family:Consolas, \\'Liberation Mono\\', Courier, monospace;background-color:rgb(248, 248, 248);border-top-left-radius:3px;border-top-right-radius:3px;border-bottom-right-radius:3px;border-bottom-left-radius:3px;white-space:nowrap;margin-top:0px;\">\\n                 len\\n                </code>\\n                function)\\n               </li>\\n               <li style=\"margin:0px;padding:0px;border:0px;\">\\n                Groups of things (Python lists, tuples, and dictionaries)\\n               </li>\\n               <li style=\"margin:0px;padding:0px;border:0px;\">\\n                Ways to repeat yourself (for and while loops)\\n               </li>\\n               <li style=\"margin:0px;padding:0px;border:0px;\">\\n                Ways to make choices (if and try statements)\\n               </li>\\n               <li style=\"margin:0px;padding:0px;border:0px;\">\\n                Ways to create chunks (functions, objects/classes, and modules)\\n               </li>\\n               <li style=\"margin:0px;padding:0px;border:0px;\">\\n                Ways to combine chunks (function composition)\\n               </li>\\n              </ol>\\n              <p style=\"margin:15px 0px;padding:0px;border:0px;\">\\n               The lines between these are often blurry in practice - for example, a string in \\nPython actually mixes some characteristics of a thing, a group, and a \"chunk\". \\nThe distinctions between these categories is not particularly relevant to the \\ncomputer - they are purely a conceptual framework that helps programmers write \\ncode that does what they want it to do.\\n              </p>\\n              <p style=\"margin:15px 0px;padding:0px;border:0px;\">\\n               We expect that you\\'ll find the basics of 1 and 2 fairly straightforward. We\\'ll \\ngo quickly through those and will spend the most time on items 3-6. We won\\'t \\nreally talk about 7, as it is not as common in scientific Python programming as \\nit is in, say, shell scripting (pipes and redirection).\\n              </p>\\n              <p style=\"margin:15px 0px;padding:0px;border:0px;\">\\n               Don\\'t worry if you don\\'t already know what all of the above examples mean - \\nyou\\'ll know by the end of this lesson.\\n              </p>\\n              <h2 style=\"margin:20px 0px 10px;padding:0px;border:0px;font-weight:bold;-webkit-font-smoothing:antialiased;cursor:text;position:relative;font-size:24px;border-bottom-width:1px;border-bottom-style:solid;border-bottom-color:rgb(204, 204, 204);color:rgb(0, 0, 0);\">\\n               <a href=\"https://github.com/swcarpentry/boot-camps/tree/2013-04-ucb/python#starting-an-ipython-notebook\" name=\"starting-an-ipython-notebook\" shape=\"rect\" style=\"margin:0px;padding:0px;border:0px;color:rgb(65, 131, 196);text-decoration:none;display:block;padding-left:30px;margin-left:-30px;cursor:pointer;position:absolute;top:0px;left:0px;bottom:0px;\">\\n               </a>\\n               Starting an IPython Notebook\\n              </h2>\\n              <p style=\"margin:15px 0px;padding:0px;border:0px;margin-top:0px;\">\\n               To learn about these core concepts and the Python language, we\\'ll start off by \\nworking within the IPython notebook.\\n              </p>\\n              <p style=\"margin:15px 0px;padding:0px;border:0px;\">\\n               To start up a notebook, open Terminal and navigate to the folder containing the \\nipynb notebook files that you wish to open (or to any directory in which you\\'d \\nlike to save a new notebook, if you\\'re creating a new notebook from scratch). \\nOnce in the directory, run the command\\n               <code style=\"margin:0px 2px;padding:0px 5px;border:1px solid rgb(234, 234, 234);font-size:12px;font-family:Consolas, \\'Liberation Mono\\', Courier, monospace;background-color:rgb(248, 248, 248);border-top-left-radius:3px;border-top-right-radius:3px;border-bottom-right-radius:3px;border-bottom-left-radius:3px;white-space:nowrap;\">\\n                ipython notebook\\n               </code>\\n               , which will launch a \\nlocal webserver and open your default browser. From there you can open an \\nexisting notebook, create a new notebook, and start working.\\n              </p>\\n              <p style=\"margin:15px 0px;padding:0px;border:0px;\">\\n               Note that if you are on a Windows machine, this command will probably not run \\nin Git bash or Cygwin. Instead, open a Command Prompt (click on the Start menu \\nand type\\n               <code style=\"margin:0px 2px;padding:0px 5px;border:1px solid rgb(234, 234, 234);font-size:12px;font-family:Consolas, \\'Liberation Mono\\', Courier, monospace;background-color:rgb(248, 248, 248);border-top-left-radius:3px;border-top-right-radius:3px;border-bottom-right-radius:3px;border-bottom-left-radius:3px;white-space:nowrap;\">\\n                cmd\\n               </code>\\n               in the search box for Windows 7, or click on Run then type cmd \\nfor Windows XP), navigate to the appropriate directory, and run the command\\n               <code style=\"margin:0px 2px;padding:0px 5px;border:1px solid rgb(234, 234, 234);font-size:12px;font-family:Consolas, \\'Liberation Mono\\', Courier, monospace;background-color:rgb(248, 248, 248);border-top-left-radius:3px;border-top-right-radius:3px;border-bottom-right-radius:3px;border-bottom-left-radius:3px;white-space:nowrap;\">\\n                ipython notebook\\n               </code>\\n               .\\n              </p>\\n              <h2 style=\"margin:20px 0px 10px;padding:0px;border:0px;font-weight:bold;-webkit-font-smoothing:antialiased;cursor:text;position:relative;font-size:24px;border-bottom-width:1px;border-bottom-style:solid;border-bottom-color:rgb(204, 204, 204);color:rgb(0, 0, 0);\">\\n               <a href=\"https://github.com/swcarpentry/boot-camps/tree/2013-04-ucb/python#asking-questions\" name=\"asking-questions\" shape=\"rect\" style=\"margin:0px;padding:0px;border:0px;color:rgb(65, 131, 196);text-decoration:none;display:block;padding-left:30px;margin-left:-30px;cursor:pointer;position:absolute;top:0px;left:0px;bottom:0px;\">\\n               </a>\\n               Asking Questions\\n              </h2>\\n              <p style=\"margin:15px 0px;padding:0px;border:0px;margin-top:0px;\">\\n               As we go through this lesson, you can ask questions in two ways:\\n              </p>\\n              <ol style=\"margin:15px 0px;padding:0px;border:0px;padding-left:30px;margin-bottom:0px;\">\\n               <li style=\"margin:0px;padding:0px;border:0px;\">\\n                If you have a question for me, just raise your hand and ask.\\n               </li>\\n               <li style=\"margin:0px;padding:0px;border:0px;\">\\n                If you have a question that you think might be restricted to just you (like \\nsomething on your computer isn\\'t working), raise your hand an a volunteer \\nwill come over to help you individually.\\n               </li>\\n              </ol>\\n             </div>\\n             <span style=\"display:block;height:0px;clear:both;visibility:hidden;\">\\n              .\\n             </span>\\n            </div>\\n           </div>\\n          </div>\\n         </div>\\n        </div>\\n       </div>\\n      </div>\\n     </div>\\n    </div>\\n   </div>\\n  </div>\\n </div>\\n <br clear=\"none\"/>\\n</div>'"
      ]
     },
     "execution_count": 16,
     "metadata": {},
     "output_type": "execute_result"
    }
   ],
   "source": [
    "html = note_to_html(ewu, client, 'bd97615e-6fee-44b0-ba03-3860f1806f11')\n",
    "html"
   ]
  },
  {
   "cell_type": "code",
   "execution_count": 5,
   "metadata": {},
   "outputs": [
    {
     "name": "stderr",
     "output_type": "stream",
     "text": [
      "/Users/raymondyee/anaconda/envs/myenv/lib/python2.7/site-packages/bs4/__init__.py:181: UserWarning: No parser was explicitly specified, so I'm using the best available HTML parser for this system (\"lxml\"). This usually isn't a problem, but if you run this code on another system, or in a different virtual environment, it may use a different parser and behave differently.\n",
      "\n",
      "The code that caused this warning is on line 174 of the file /Users/raymondyee/anaconda/envs/myenv/lib/python2.7/runpy.py. To get rid of this warning, change code that looks like this:\n",
      "\n",
      " BeautifulSoup(YOUR_MARKUP})\n",
      "\n",
      "to this:\n",
      "\n",
      " BeautifulSoup(YOUR_MARKUP, \"lxml\")\n",
      "\n",
      "  markup_type=markup_type))\n"
     ]
    },
    {
     "name": "stdout",
     "output_type": "stream",
     "text": [
      "(0, 'Abandoned mattress with an attitude', 201, 1575374, 1)\n",
      "(1, 'opera2', 436, 325, 0)\n",
      "(2, 'The Developer Perspective: Building an App That Works With Evernote \\xc2\\xab Evernote Blogcast', 332, 229, 0)\n",
      "(3, 'AppleScript and Automator Resources | Veritrope', 287, 184, 0)\n",
      "(4, 'Repetitive Strain Injury: How to prevent, identify, and manage RSI', 311, 218, 0)\n",
      "(5, 'RSI Action\\xe2\\x80\\xa6 \\xc2\\xbb Guide for Young People: How to Avoid RSI', 431, 338, 0)\n",
      "(6, 'Hacker News | How I Cured my RSI Pain', 330, 234, 0)\n",
      "(7, 'Hacker News | Poll: How do you combat RSI?', 330, 234, 0)\n",
      "(8, 'Hacker News | Ask HN: Remedies for RSI?', 328, 232, 0)\n",
      "(9, 'IMAK Smart Glove with Thumb Support for RSI & CTS Hand Pain (Medium):Amazon:Health & Beauty', 354, 261, 0)\n",
      "(10, 'Welcome to the RSI Awareness Website', 364, 268, 0)\n",
      "(11, \"Verizon: unlimited 3G customers can upgrade to 4G, keep data pack and grab $30 tethering' article\", 296, 200, 0)\n",
      "(12, 'CT meeting agenda making', 3891, 3856, 0)\n",
      "(13, 'clpgh carnegie public library card #', 253, 125, 0)\n",
      "(14, 'Robert K. Logan', 501, 423, 0)\n",
      "(15, 'Cheryl Towers', 12398, 13284, 0)\n",
      "(16, 'prime reports', 305, 195, 0)\n",
      "(17, 'GTD', 354, 256, 0)\n",
      "(18, 'running regluit and unglu on Mac and ry-dev', 2190, 2418, 0)\n",
      "(19, 'git surprises when trying to update local master', 811, 855, 0)\n",
      "(20, 'Testing unglue.it, especially on the selenium front', 31922, 30801, 0)\n",
      "(21, 'Data Unbound taxes 2010', 328, 211, 0)\n",
      "(22, 'status of Data Unbound taxes 2010', 1164, 1190, 0)\n",
      "(23, 'assign tasks for Jason', 904, 874, 0)\n",
      "(24, 'Calculating the fingerprint of Amazon EC2 ssh key / keypairs', 4206, 4616, 0)\n",
      "(25, 'How to create a self-signed Certificate', 4089, 4604, 0)\n",
      "(26, 'make a mechanical turk job with boto \\xe2\\x80\\x94 Gist', 306, 210, 0)\n",
      "(27, 'wifi settings for Holly, Janice, and Shirley/Dad', 376, 321, 0)\n",
      "(28, 'applying ubuntu security upgrades', 702, 615, 0)\n",
      "(29, 'Amazon DynamoDB \\xe2\\x80\\x93 a Fast and Scalable NoSQL Database Service from AWS | Hacker News', 330, 234, 0)\n",
      "(30, 'Can Touch Screens Hurt You? - Technology Review', 2874, 2816, 0)\n",
      "(31, 'Useful to know that we can buy AWS premium support', 378, 282, 0)\n",
      "(32, 'responding to PA tax summons', 4115, 4674, 0)\n",
      "(33, 'where to park in North Berkeley', 469, 120684, 1)\n",
      "(34, 'get celerybeat running as a daemon', 3673, 4072, 0)\n",
      "(35, 'Surprise: HTC Rezound is a Global GSM/HSPA Ready Device', 640, 1778, 1)\n",
      "(36, 'Possible payment gateway solutions for SFPlatform | Agriya Dev Blog', 47494, 48560, 0)\n",
      "(37, 'running support_campaign in unglue.it (selenium)', 8757, 10322, 0)\n",
      "(38, 'secure deletion of files in linux', 549, 450, 0)\n",
      "(39, 'closing our campaigns -- django-admin shell campaigns I used', 2876, 3223, 0)\n",
      "(40, 'unglue.it: who has pledged the most money so far?', 5921, 6877, 0)\n",
      "(41, 'Data Miner \\xe2\\x80\\x94 GitHub Jobs', 12714, 52711, 2)\n"
     ]
    },
    {
     "ename": "EDAMSystemException",
     "evalue": "EDAMSystemException(errorCode=19, rateLimitDuration=3367, _message=None)",
     "output_type": "error",
     "traceback": [
      "\u001b[0;31m---------------------------------------------------------------------------\u001b[0m",
      "\u001b[0;31mEDAMSystemException\u001b[0m                       Traceback (most recent call last)",
      "\u001b[0;32m<ipython-input-5-2c612f6a88cc>\u001b[0m in \u001b[0;36m<module>\u001b[0;34m()\u001b[0m\n\u001b[1;32m      7\u001b[0m                 withResourcesData=True)\n\u001b[1;32m      8\u001b[0m \u001b[0;34m\u001b[0m\u001b[0m\n\u001b[0;32m----> 9\u001b[0;31m     \u001b[0mnote_store\u001b[0m \u001b[0;34m=\u001b[0m \u001b[0mclient\u001b[0m\u001b[0;34m.\u001b[0m\u001b[0mget_note_store\u001b[0m\u001b[0;34m(\u001b[0m\u001b[0;34m)\u001b[0m\u001b[0;34m\u001b[0m\u001b[0m\n\u001b[0m\u001b[1;32m     10\u001b[0m     \u001b[0mmediaStore\u001b[0m \u001b[0;34m=\u001b[0m \u001b[0mOSFMediaStore\u001b[0m\u001b[0;34m(\u001b[0m\u001b[0mnote_store\u001b[0m\u001b[0;34m,\u001b[0m \u001b[0mnm\u001b[0m\u001b[0;34m.\u001b[0m\u001b[0mguid\u001b[0m\u001b[0;34m,\u001b[0m \u001b[0mnote\u001b[0m\u001b[0;34m)\u001b[0m\u001b[0;34m\u001b[0m\u001b[0m\n\u001b[1;32m     11\u001b[0m \u001b[0;34m\u001b[0m\u001b[0m\n",
      "\u001b[0;32m/Users/raymondyee/anaconda/envs/myenv/lib/python2.7/site-packages/evernote/api/client.pyc\u001b[0m in \u001b[0;36mget_note_store\u001b[0;34m(self)\u001b[0m\n\u001b[1;32m     66\u001b[0m     \u001b[0;32mdef\u001b[0m \u001b[0mget_note_store\u001b[0m\u001b[0;34m(\u001b[0m\u001b[0mself\u001b[0m\u001b[0;34m)\u001b[0m\u001b[0;34m:\u001b[0m\u001b[0;34m\u001b[0m\u001b[0m\n\u001b[1;32m     67\u001b[0m         \u001b[0muser_store\u001b[0m \u001b[0;34m=\u001b[0m \u001b[0mself\u001b[0m\u001b[0;34m.\u001b[0m\u001b[0mget_user_store\u001b[0m\u001b[0;34m(\u001b[0m\u001b[0;34m)\u001b[0m\u001b[0;34m\u001b[0m\u001b[0m\n\u001b[0;32m---> 68\u001b[0;31m         \u001b[0mnote_store_uri\u001b[0m \u001b[0;34m=\u001b[0m \u001b[0muser_store\u001b[0m\u001b[0;34m.\u001b[0m\u001b[0mgetNoteStoreUrl\u001b[0m\u001b[0;34m(\u001b[0m\u001b[0;34m)\u001b[0m\u001b[0;34m\u001b[0m\u001b[0m\n\u001b[0m\u001b[1;32m     69\u001b[0m         \u001b[0mstore\u001b[0m \u001b[0;34m=\u001b[0m \u001b[0mStore\u001b[0m\u001b[0;34m(\u001b[0m\u001b[0mself\u001b[0m\u001b[0;34m.\u001b[0m\u001b[0mtoken\u001b[0m\u001b[0;34m,\u001b[0m \u001b[0mNoteStore\u001b[0m\u001b[0;34m.\u001b[0m\u001b[0mClient\u001b[0m\u001b[0;34m,\u001b[0m \u001b[0mnote_store_uri\u001b[0m\u001b[0;34m)\u001b[0m\u001b[0;34m\u001b[0m\u001b[0m\n\u001b[1;32m     70\u001b[0m         \u001b[0;32mif\u001b[0m \u001b[0;32mnot\u001b[0m \u001b[0mstore\u001b[0m\u001b[0;34m:\u001b[0m  \u001b[0;31m# Trick for PyDev code completion\u001b[0m\u001b[0;34m\u001b[0m\u001b[0m\n",
      "\u001b[0;32m/Users/raymondyee/anaconda/envs/myenv/lib/python2.7/site-packages/evernote/api/client.pyc\u001b[0m in \u001b[0;36mdelegate_method\u001b[0;34m(*args, **kwargs)\u001b[0m\n\u001b[1;32m    136\u001b[0m                 return functools.partial(\n\u001b[1;32m    137\u001b[0m                     \u001b[0mtargetMethod\u001b[0m\u001b[0;34m,\u001b[0m \u001b[0mauthenticationToken\u001b[0m\u001b[0;34m=\u001b[0m\u001b[0mself\u001b[0m\u001b[0;34m.\u001b[0m\u001b[0mtoken\u001b[0m\u001b[0;34m\u001b[0m\u001b[0m\n\u001b[0;32m--> 138\u001b[0;31m                 )(**dict(zip(arg_names, args)))\n\u001b[0m\u001b[1;32m    139\u001b[0m             \u001b[0;32melse\u001b[0m\u001b[0;34m:\u001b[0m\u001b[0;34m\u001b[0m\u001b[0m\n\u001b[1;32m    140\u001b[0m                 \u001b[0;32mreturn\u001b[0m \u001b[0mtargetMethod\u001b[0m\u001b[0;34m(\u001b[0m\u001b[0;34m*\u001b[0m\u001b[0margs\u001b[0m\u001b[0;34m,\u001b[0m \u001b[0;34m**\u001b[0m\u001b[0mkwargs\u001b[0m\u001b[0;34m)\u001b[0m\u001b[0;34m\u001b[0m\u001b[0m\n",
      "\u001b[0;32m/Users/raymondyee/anaconda/envs/myenv/lib/python2.7/site-packages/evernote/edam/userstore/UserStore.pyc\u001b[0m in \u001b[0;36mgetNoteStoreUrl\u001b[0;34m(self, authenticationToken)\u001b[0m\n\u001b[1;32m   1154\u001b[0m     \"\"\"\n\u001b[1;32m   1155\u001b[0m     \u001b[0mself\u001b[0m\u001b[0;34m.\u001b[0m\u001b[0msend_getNoteStoreUrl\u001b[0m\u001b[0;34m(\u001b[0m\u001b[0mauthenticationToken\u001b[0m\u001b[0;34m)\u001b[0m\u001b[0;34m\u001b[0m\u001b[0m\n\u001b[0;32m-> 1156\u001b[0;31m     \u001b[0;32mreturn\u001b[0m \u001b[0mself\u001b[0m\u001b[0;34m.\u001b[0m\u001b[0mrecv_getNoteStoreUrl\u001b[0m\u001b[0;34m(\u001b[0m\u001b[0;34m)\u001b[0m\u001b[0;34m\u001b[0m\u001b[0m\n\u001b[0m\u001b[1;32m   1157\u001b[0m \u001b[0;34m\u001b[0m\u001b[0m\n\u001b[1;32m   1158\u001b[0m   \u001b[0;32mdef\u001b[0m \u001b[0msend_getNoteStoreUrl\u001b[0m\u001b[0;34m(\u001b[0m\u001b[0mself\u001b[0m\u001b[0;34m,\u001b[0m \u001b[0mauthenticationToken\u001b[0m\u001b[0;34m)\u001b[0m\u001b[0;34m:\u001b[0m\u001b[0;34m\u001b[0m\u001b[0m\n",
      "\u001b[0;32m/Users/raymondyee/anaconda/envs/myenv/lib/python2.7/site-packages/evernote/edam/userstore/UserStore.pyc\u001b[0m in \u001b[0;36mrecv_getNoteStoreUrl\u001b[0;34m(self)\u001b[0m\n\u001b[1;32m   1179\u001b[0m       \u001b[0;32mraise\u001b[0m \u001b[0mresult\u001b[0m\u001b[0;34m.\u001b[0m\u001b[0muserException\u001b[0m\u001b[0;34m\u001b[0m\u001b[0m\n\u001b[1;32m   1180\u001b[0m     \u001b[0;32mif\u001b[0m \u001b[0mresult\u001b[0m\u001b[0;34m.\u001b[0m\u001b[0msystemException\u001b[0m \u001b[0;32mis\u001b[0m \u001b[0;32mnot\u001b[0m \u001b[0mNone\u001b[0m\u001b[0;34m:\u001b[0m\u001b[0;34m\u001b[0m\u001b[0m\n\u001b[0;32m-> 1181\u001b[0;31m       \u001b[0;32mraise\u001b[0m \u001b[0mresult\u001b[0m\u001b[0;34m.\u001b[0m\u001b[0msystemException\u001b[0m\u001b[0;34m\u001b[0m\u001b[0m\n\u001b[0m\u001b[1;32m   1182\u001b[0m     \u001b[0;32mraise\u001b[0m \u001b[0mTApplicationException\u001b[0m\u001b[0;34m(\u001b[0m\u001b[0mTApplicationException\u001b[0m\u001b[0;34m.\u001b[0m\u001b[0mMISSING_RESULT\u001b[0m\u001b[0;34m,\u001b[0m \u001b[0;34m\"getNoteStoreUrl failed: unknown result\"\u001b[0m\u001b[0;34m)\u001b[0m\u001b[0;34m;\u001b[0m\u001b[0;34m\u001b[0m\u001b[0m\n\u001b[1;32m   1183\u001b[0m \u001b[0;34m\u001b[0m\u001b[0m\n",
      "\u001b[0;31mEDAMSystemException\u001b[0m: EDAMSystemException(errorCode=19, rateLimitDuration=3367, _message=None)"
     ]
    }
   ],
   "source": [
    "exceptions = []\n",
    "\n",
    "for (i, nm) in enumerate(islice(nb_notes,None)):\n",
    "\n",
    "    note = ewu.get_note(nm.guid,\n",
    "                withContent=True,\n",
    "                withResourcesData=True)\n",
    "    \n",
    "    note_store = client.get_note_store()\n",
    "    mediaStore = OSFMediaStore(note_store, nm.guid, note)\n",
    "\n",
    "    try:\n",
    "        html = ENML2HTML.ENMLToHTML(note.content, pretty=True, header=False,\n",
    "                     media_store=mediaStore)\n",
    "        print (i, note.title, note.contentLength, len(html), len(note.resources) if note.resources is not None else 0)\n",
    "    except Exception as e:\n",
    "        print (i, nm.guid, note.title, e)\n",
    "        exceptions.append(e)"
   ]
  },
  {
   "cell_type": "code",
   "execution_count": null,
   "metadata": {},
   "outputs": [],
   "source": [
    "print(html)"
   ]
  },
  {
   "cell_type": "code",
   "execution_count": null,
   "metadata": {},
   "outputs": [],
   "source": [
    "note.resources\n"
   ]
  },
  {
   "cell_type": "code",
   "execution_count": null,
   "metadata": {},
   "outputs": [],
   "source": [
    "'df3e567d6f16d040326c7a0ea29a4f41'.decode('hex') == resource.data.bodyHash"
   ]
  },
  {
   "cell_type": "code",
   "execution_count": null,
   "metadata": {},
   "outputs": [],
   "source": [
    "b64encode(resource.data.bodyHash)"
   ]
  },
  {
   "cell_type": "code",
   "execution_count": null,
   "metadata": {},
   "outputs": [],
   "source": [
    "resource.data.bodyHash"
   ]
  },
  {
   "cell_type": "markdown",
   "metadata": {},
   "source": [
    "# list of all projects"
   ]
  },
  {
   "cell_type": "code",
   "execution_count": null,
   "metadata": {
    "collapsed": true
   },
   "outputs": [],
   "source": [
    "# get all the notes in the :PROJECTS Notebook\n",
    "\n",
    "import datetime\n",
    "from itertools import islice\n",
    "\n",
    "notes = list(islice(ewu.notes_metadata(includeTitle=True, \n",
    "                                  includeUpdated=True,\n",
    "                                  includeUpdateSequenceNum=True,\n",
    "                                  notebookGuid=ewu.notebook(name=':PROJECTS').guid), None))\n",
    "\n",
    "# accumulate all the tags that begin with \"+\" associated with notes in :PROJECTS notebook\n",
    "plus_tags_set = set()\n",
    "\n",
    "for note in notes:\n",
    "    tags = ewu.noteStore.getNoteTagNames(note.guid)\n",
    "    plus_tags = [tag for tag in tags if tag.startswith(\"+\")]\n",
    "    \n",
    "    plus_tags_set.update(plus_tags)\n",
    "    print note.title, note.guid, note.updateSequenceNum, datetime.datetime.fromtimestamp(note.updated/1000.),  \\\n",
    "         len(plus_tags) == 1\n",
    "        \n",
    "        \n",
    "    # TO DO: check that each note has one and only one tag that begins with \"+\"\n",
    "    \n",
    "    "
   ]
  },
  {
   "cell_type": "code",
   "execution_count": null,
   "metadata": {
    "collapsed": true
   },
   "outputs": [],
   "source": [
    "len(plus_tags_set)"
   ]
  },
  {
   "cell_type": "code",
   "execution_count": null,
   "metadata": {
    "collapsed": true
   },
   "outputs": [],
   "source": [
    "ewu.all_tags()"
   ]
  },
  {
   "cell_type": "code",
   "execution_count": null,
   "metadata": {
    "collapsed": true
   },
   "outputs": [],
   "source": [
    "[tag for tag in ewu._tags_by_name.keys() if tag.startswith(\"+\")]"
   ]
  },
  {
   "cell_type": "code",
   "execution_count": null,
   "metadata": {
    "collapsed": true
   },
   "outputs": [],
   "source": [
    "len(_)"
   ]
  },
  {
   "cell_type": "code",
   "execution_count": null,
   "metadata": {
    "collapsed": true
   },
   "outputs": [],
   "source": [
    "# consolidate into one -- calculate \"+\" tags that are not covered in :PROJECTS notebook\n",
    "\n",
    "import EvernoteWebUtil as ewu\n",
    "reload(ewu)\n",
    "\n",
    "import datetime\n",
    "from itertools import islice\n",
    "\n",
    "\n",
    "all_plus_tags = set(filter(lambda tag: tag.startswith(\"+\"), \n",
    "                       [tag.name for tag in ewu.all_tags(refresh=False)]))\n",
    "\n",
    "\n",
    "projects_notes = list(islice(ewu.notes_metadata(includeTitle=True, \n",
    "                                  includeUpdated=True,\n",
    "                                  includeUpdateSequenceNum=True,\n",
    "                                  notebookGuid=ewu.notebook(name=':PROJECTS').guid), None))\n",
    "\n",
    "project_plus_tags = set()\n",
    "for note in projects_notes:\n",
    "    tags = ewu.noteStore.getNoteTagNames(note.guid)\n",
    "    plus_tags = [tag for tag in tags if tag.startswith(\"+\")]\n",
    "    \n",
    "    project_plus_tags.update(plus_tags)    \n",
    "\n",
    "    \n",
    "all_plus_tags - project_plus_tags"
   ]
  },
  {
   "cell_type": "code",
   "execution_count": null,
   "metadata": {
    "collapsed": true
   },
   "outputs": [],
   "source": [
    "for proj_name in (all_plus_tags - project_plus_tags):\n",
    "    print proj_name[1:]"
   ]
  },
  {
   "cell_type": "code",
   "execution_count": null,
   "metadata": {
    "collapsed": true
   },
   "outputs": [],
   "source": [
    "# next step:  generate a note in the :PROJECTS notebook with the same tag name (minus the beginning \"+\")\n",
    "# http://dev.evernote.com/doc/articles/creating_notes.php\n",
    "\n",
    "import EvernoteWebUtil as ewu\n",
    "from evernote.edam.type.ttypes import Note\n",
    "\n",
    "# put the note into the :PROJECTS notebook\n",
    "projects_nb_guid = ewu.notebook(name=':PROJECTS').guid\n",
    "\n",
    "\n",
    "note_template = \"\"\"<?xml version=\"1.0\" encoding=\"UTF-8\" standalone=\"no\"?>\n",
    "<!DOCTYPE en-note SYSTEM \"http://xml.evernote.com/pub/enml2.dtd\">\n",
    "<en-note style=\"word-wrap: break-word; -webkit-nbsp-mode: space; -webkit-line-break: after-white-space;\">\n",
    "{0}\n",
    "</en-note>\"\"\"\n",
    "\n",
    "\n",
    "for tag_name in (all_plus_tags - project_plus_tags):\n",
    "    proj_name = tag_name[1:]\n",
    "    note = ewu.create_note(proj_name, \" \", tagNames=[tag_name], \n",
    "                           notebookGuid=projects_nb_guid)\n",
    "\n"
   ]
  },
  {
   "cell_type": "markdown",
   "metadata": {},
   "source": [
    "# utility for deactivating an active project\n",
    "\n",
    "Steps:\n",
    "\n",
    "* rename tag \"+TagName\" to \"-TagName\"  (checking for possible name collision)\n",
    "* move the new tag to be a child of the .Inactive Projects tag\n",
    "* move the note to Projects Retired"
   ]
  },
  {
   "cell_type": "code",
   "execution_count": null,
   "metadata": {
    "collapsed": true
   },
   "outputs": [],
   "source": [
    "# all children of \".Active Projects\" tag\n",
    "\n",
    "[tag for tag in ewu.all_tags() if tag.parentGuid == ewu.tag(name=\".Active Projects\").guid]"
   ]
  },
  {
   "cell_type": "code",
   "execution_count": null,
   "metadata": {
    "collapsed": true
   },
   "outputs": [],
   "source": [
    "# make sure that + tags have the right parent (.Active Projects)\n",
    "# THIS IS USEFUL\n",
    "\n",
    "active_projects_tag = ewu.tag(name=\".Active Projects\")\n",
    "inactive_projects_tag = ewu.tag(name=\".Inactive Projects\")\n",
    "\n",
    "wayward_plus_tags = [tag for tag in ewu.all_tags(refresh=True) if tag.name.startswith(\"+\") and tag.parentGuid != active_projects_tag.guid]\n",
    "for tag in wayward_plus_tags:\n",
    "    print tag.name\n",
    "    tag.parentGuid = active_projects_tag.guid\n",
    "    ewu.noteStore.updateTag(tag)"
   ]
  },
  {
   "cell_type": "code",
   "execution_count": null,
   "metadata": {
    "collapsed": true
   },
   "outputs": [],
   "source": [
    "# get all the .When tags\n",
    "\n",
    "from collections import defaultdict\n",
    "\n",
    "when_tags = [tag for tag in ewu.all_tags(refresh=True) if tag.parentGuid == ewu.tag(name=\".When\").guid]\n",
    "when_tags_guids = set([tag.guid for tag in when_tags])\n",
    "when_tags_guids\n",
    "\n",
    "note_tags = defaultdict(list)\n",
    "\n",
    "action_notes = list(islice(ewu.notes_metadata(includeTitle=True, \n",
    "                                  includeUpdated=True,\n",
    "                                  includeUpdateSequenceNum=True,\n",
    "                                  includeTagGuids=True,\n",
    "                                  notebookGuid=ewu.notebook(name='Action Pending').guid), None))\n",
    "\n",
    "# tags that have no .When tags whatsover\n",
    "# ideally -- each action has one and only one .When tag\n",
    "\n",
    "for note in action_notes:\n",
    "    tag_guids = note.tagGuids\n",
    "    \n",
    "    if tag_guids is None:\n",
    "        tag_guids = []\n",
    "        \n",
    "    tag_names = [ewu.tag(guid=g).name for g in tag_guids]\n",
    "    for tag_name in tag_names:\n",
    "        note_tags[tag_name].append(note)\n",
    "        \n",
    "    if len(tag_guids) == 0:\n",
    "        note_tags['__UNTAGGED__'].append(note)\n",
    "        \n",
    "\n",
    "note_tags.keys()\n",
    "    \n"
   ]
  },
  {
   "cell_type": "code",
   "execution_count": null,
   "metadata": {
    "collapsed": true
   },
   "outputs": [],
   "source": [
    "\n",
    "# deal with untagged notes\n",
    "# note_tags['__UNTAGGED__']\n",
    "\n",
    "\n",
    "# look at tags that begin with \"-\"\n",
    "# how to retire an action?\n",
    "\n",
    "# let's do some stuff by hand and then look at programming\n",
    "\n",
    "\n",
    "to_clean = [t for t in note_tags.keys() if t.startswith(\"-\")]\n",
    "to_clean"
   ]
  },
  {
   "cell_type": "markdown",
   "metadata": {},
   "source": [
    "# How to retire an action\n",
    "\n",
    "* strip action of all .when tags\n",
    "* move action to Retired Action Notebook / Reference\n",
    "\n"
   ]
  },
  {
   "cell_type": "code",
   "execution_count": null,
   "metadata": {
    "collapsed": true
   },
   "outputs": [],
   "source": [
    "# we can take the ids that come from AppleScript and get the local folder location\n",
    "# /Users/raymondyee/Library/Application Support/Evernote/accounts/Evernote/rdhyee/content/p11026/content.html\n",
    "\n",
    "#path = \"/Users/raymondyee/Library/Application Support/Evernote/accounts/Evernote/rdhyee/content/{0}/content.enml\".format(note.id().split(\"/\")[-1])\n",
    "#path"
   ]
  },
  {
   "cell_type": "code",
   "execution_count": null,
   "metadata": {
    "collapsed": true
   },
   "outputs": [],
   "source": [
    "# with the exact title, you can look up the note, though it won't necessarily be unique.\n",
    "\n",
    "list(ewu.notes(\"summarizing my attempts so far to access race/ethnicity data from 2010 Census\"))"
   ]
  },
  {
   "cell_type": "code",
   "execution_count": null,
   "metadata": {
    "collapsed": true
   },
   "outputs": [],
   "source": [
    "\n",
    "reload(ewu)\n",
    "\n",
    "ewu.web_api_notes_from_selection()"
   ]
  },
  {
   "cell_type": "code",
   "execution_count": null,
   "metadata": {
    "collapsed": true
   },
   "outputs": [],
   "source": [
    "# take selection and strip out the when tags\n",
    "\n",
    "reload(ewu)\n",
    "    \n",
    "ewu.strip_when_tags_move_to_ref_nb_for_selection()"
   ]
  },
  {
   "cell_type": "code",
   "execution_count": null,
   "metadata": {
    "collapsed": true
   },
   "outputs": [],
   "source": [
    "# look for stray actions: ones that are tied to retired projects or yet to be activated projects\n",
    "\n",
    "action_notes = list(islice(ewu.notes_metadata(includeTitle=True, \n",
    "                                  includeUpdated=True,\n",
    "                                  includeUpdateSequenceNum=True,\n",
    "                                  notebookGuid=ewu.notebook(name='Action Pending').guid), None))\n",
    "\n",
    "len(action_notes)\n",
    "\n",
    "# accumulate tags and compute a dict of tag -> notes, including notes with no project tag\n",
    "\n"
   ]
  },
  {
   "cell_type": "code",
   "execution_count": null,
   "metadata": {
    "collapsed": true
   },
   "outputs": [],
   "source": [
    "list(ewu.actions_for_project(\"+ProgrammableWeb\"))"
   ]
  },
  {
   "cell_type": "code",
   "execution_count": null,
   "metadata": {
    "collapsed": true
   },
   "outputs": [],
   "source": [
    "# grab active project tags of selected item \n",
    "\n",
    "\n",
    "ewu.project_tags_for_selected()"
   ]
  },
  {
   "cell_type": "code",
   "execution_count": null,
   "metadata": {
    "collapsed": true
   },
   "outputs": [],
   "source": [
    "# for each of the selected projects, print out actions\n",
    "\n",
    "for proj_tag in ewu.project_tags_for_selected():\n",
    "    print proj_tag\n",
    "    for n in list(ewu.actions_for_project(proj_tag)):\n",
    "        print n.title\n",
    "    print "
   ]
  },
  {
   "cell_type": "code",
   "execution_count": null,
   "metadata": {
    "collapsed": true
   },
   "outputs": [],
   "source": [
    "ewu.strip_when_tags_move_to_ref_nb_for_selection()"
   ]
  },
  {
   "cell_type": "code",
   "execution_count": null,
   "metadata": {
    "collapsed": true
   },
   "outputs": [],
   "source": [
    "def retire_project(tag_name,\n",
    "                   ignore_actions=False,\n",
    "                   dry_run=False, \n",
    "                   display_remaining_actions=True):\n",
    "    \n",
    "    \"\"\"\n",
    "    Retire the project represented by tag_name\n",
    "    \"\"\"\n",
    "    tag = ewu.tag(name=tag_name)\n",
    "    \n",
    "    # make sure tag_name starts with \"+\"\n",
    "    if not tag_name.startswith(\"+\"):\n",
    "        return tag\n",
    "    \n",
    "    # if ignore_actions is False, check whether are still associated actions for the project. \n",
    "    # if there are actions, then don't retire project.  Optionally display actions in Evernote\n",
    "    if not ignore_actions:\n",
    "        associated_actions = list(ewu.actions_for_project(tag_name))\n",
    "        if len(associated_actions):\n",
    "            if display_remaining_actions:\n",
    "                from appscript import app\n",
    "                evnote = app('Evernote')\n",
    "                evnote.open_collection_window(with_query_string = '''notebook:\"Action Pending\" tag:\"{0}\"'''.format(tag_name))\n",
    "                \n",
    "            return tag_name\n",
    "    \n",
    "    \n",
    "    # before just trying to turn the + to a -, check for existence of the new name.\n",
    "    # if the new name exists, we would delete the + tag and apply the - tag to the notes tied to the\n",
    "    # + tag\n",
    "    \n",
    "    # let's take care of the simple case first\n",
    "\n",
    "    # do I have logic for finding all notes that have a given tag? \n",
    "    # tagging a set of notes with a given tag?\n",
    "\n",
    "    retired_tag_name = \"-\" + tag_name[1:]\n",
    "    \n",
    "    if ewu.tag(retired_tag_name) is None:\n",
    "        tag.name = retired_tag_name\n",
    "    else:\n",
    "        raise Exception(\"{0} already exists\".format(retired_tag_name))\n",
    "\n",
    "    # change parent reference\n",
    "    tag.parentGuid = ewu.tag('.Inactive Projects').guid\n",
    "\n",
    "    # move the project note (if it exists) from the project notebook to the retired project notebook\n",
    "\n",
    "    project_notes = ewu.notes_metadata(includeTitle=True, includeNotebookGuid=True, \n",
    "                            tagGuids = [tag.guid],\n",
    "                            notebookGuid=ewu.notebook(name=':PROJECTS').guid)\n",
    "\n",
    "    # with NoteMetadata, how to make change to the corresponding note?\n",
    "    # make use of \n",
    "    # http://dev.evernote.com/doc/reference/NoteStore.html#Fn_NoteStore_updateNote\n",
    "\n",
    "    for note in project_notes:\n",
    "        note.notebookGuid = ewu.notebook(name=\":PROJECTS--RETIRED\").guid\n",
    "        ewu.noteStore.updateNote(note)\n",
    "        \n",
    "    # deal with the associated actions for the project\n",
    "\n",
    "    # apply changes to tag\n",
    "    ewu.noteStore.updateTag(tag)\n",
    "    \n",
    "    return tag\n",
    "\n"
   ]
  },
  {
   "cell_type": "code",
   "execution_count": null,
   "metadata": {
    "collapsed": true
   },
   "outputs": [],
   "source": [
    "from itertools import islice\n",
    "import appscript\n",
    "\n",
    "# retire first selected project\n",
    "\n",
    "for proj_tag in islice(ewu.project_tags_for_selected(),1):\n",
    "    retire_project(proj_tag, ignore_actions=False)\n",
    "    \n",
    "    "
   ]
  },
  {
   "cell_type": "code",
   "execution_count": null,
   "metadata": {
    "collapsed": true
   },
   "outputs": [],
   "source": [
    "ewu.strip_when_tags_move_to_ref_nb_for_selection()"
   ]
  },
  {
   "cell_type": "code",
   "execution_count": null,
   "metadata": {
    "collapsed": true
   },
   "outputs": [],
   "source": [
    "# first the project note\n",
    "\n",
    "project_notes = list(ewu.notes_metadata(includeTitle=True, includeNotebookGuid=True, \n",
    "                        tagGuids = [hackfsm_tag.guid],\n",
    "                        notebookGuid=ewu.notebook(name=':PROJECTS').guid))\n",
    "\n",
    "# with NoteMetadata, how to make change to the corresponding note?\n",
    "# make use of \n",
    "# http://dev.evernote.com/doc/reference/NoteStore.html#Fn_NoteStore_updateNote\n",
    "\n",
    "for note in project_notes:\n",
    "    print note\n",
    "    note.notebookGuid = ewu.notebook(name=\":PROJECTS--RETIRED\").guid\n",
    "    \n"
   ]
  },
  {
   "cell_type": "markdown",
   "metadata": {},
   "source": [
    "# Practice making an :INBOX and moving it to :REFERENCE notebook"
   ]
  },
  {
   "cell_type": "code",
   "execution_count": null,
   "metadata": {
    "collapsed": true
   },
   "outputs": [],
   "source": [
    "# let's practice moving notes between notebooks.\n",
    "# create a new note in :INBOX\n",
    "\n",
    "reload(ewu)\n",
    "import datetime\n",
    "\n",
    "note = ewu.create_note(title=\"hello1: {0}\".format(datetime.datetime.now().isoformat()), \n",
    "                       content = \"\"\"I want some <b>bold</b> action. \n",
    "<div>I want some <i>italics</i> performance.</div>\"\"\",\n",
    "                       tagNames= ['testing', 'ipynb-generated'],\n",
    "                       notebookGuid=ewu.notebook(name=':INBOX').guid)\n",
    "\n",
    "note"
   ]
  },
  {
   "cell_type": "code",
   "execution_count": null,
   "metadata": {
    "collapsed": true
   },
   "outputs": [],
   "source": [
    "# and then move it to :REFERENCE\n",
    "# http://dev.evernote.com/doc/reference/NoteStore.html#Fn_NoteStore_updateNote\n",
    "\n",
    "note.notebookGuid = ewu.notebook(name=':REFERENCE').guid\n",
    "ewu.noteStore.updateNote(note)\n"
   ]
  },
  {
   "cell_type": "code",
   "execution_count": null,
   "metadata": {
    "collapsed": true
   },
   "outputs": [],
   "source": [
    "ewu.notebook(name=\":PROJECTS--RETIRED\")"
   ]
  },
  {
   "cell_type": "markdown",
   "metadata": {},
   "source": [
    "# Applescripting?"
   ]
  },
  {
   "cell_type": "code",
   "execution_count": null,
   "metadata": {
    "collapsed": true
   },
   "outputs": [],
   "source": [
    "from appscript import app\n",
    "evnote = app('Evernote')\n",
    "\n",
    "tag_name = \"@GLUEJAR\"\n",
    "evnote.open_collection_window(with_query_string = '''notebook:\"Action Pending\" tag:\"{0}\"'''.format(tag_name))"
   ]
  },
  {
   "cell_type": "code",
   "execution_count": null,
   "metadata": {
    "collapsed": true
   },
   "outputs": [],
   "source": []
  }
 ],
 "metadata": {
  "anaconda-cloud": {},
  "kernelspec": {
   "display_name": "Python [default]",
   "language": "python",
   "name": "python2"
  },
  "language_info": {
   "codemirror_mode": {
    "name": "ipython",
    "version": 2
   },
   "file_extension": ".py",
   "mimetype": "text/x-python",
   "name": "python",
   "nbconvert_exporter": "python",
   "pygments_lexer": "ipython2",
   "version": "2.7.12"
  }
 },
 "nbformat": 4,
 "nbformat_minor": 1
}
