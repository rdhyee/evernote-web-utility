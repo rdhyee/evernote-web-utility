{
 "cells": [
  {
   "cell_type": "markdown",
   "metadata": {},
   "source": [
    "any easy way to author HTML email? Yes:  found that I can do so in both in and in thunderbird.\n",
    "\n",
    "Questions I have:"
   ]
  },
  {
   "cell_type": "markdown",
   "metadata": {},
   "source": [
    "\n",
    "\n",
    "https://news.ycombinator.com/item?id=6169040 -> https://github.com/charlierguo/gmail\n",
    "\n",
    "    git clone https://github.com/charlierguo/gmail.git\n",
    "    \n",
    "To install:\n",
    "\n",
    "    pip install git+https://github.com/charlierguo/gmail.git\n",
    "\n",
    "/Users/raymondyee/C/src/gmail\n",
    "\n",
    "to use -- I will create a specific password for this use at https://accounts.google.com/b/0/IssuedAuthSubTokens?hl=en\n",
    "\n",
    "\n",
    "SMTP\n",
    "\n",
    "specialized gmail library in Python\n",
    "\n",
    "creating Evernote notes in a series of examples with a rising level of complexity:\n",
    "\n",
    "* simple text\n",
    "* ENML with no image references\n",
    "* ENML with attachments\n",
    "\n",
    "Question:  what aspects of the conversion from HTML to ENML + resources can be handled by emailing HTML email to evernote?  Specifically:\n",
    "\n",
    "* Are external img URL references done for you by Evernote?\n",
    "* Do references to external CSS stylesheets (or even embedded CSS) -- CSS that is not inlined -- converted to inline CSS for us?\n",
    "* How about not well-formed HTML?\n"
   ]
  },
  {
   "cell_type": "markdown",
   "metadata": {},
   "source": [
    "https://github.com/charlierguo/gmail/blob/master/README.md"
   ]
  },
  {
   "cell_type": "code",
   "execution_count": null,
   "metadata": {
    "tags": []
   },
   "outputs": [],
   "source": [
    "from settings import (gmail_username, gmail_password, evernote_email)\n",
    "import gmail\n",
    "\n",
    "def gmail_sent_to_myself(gmail_username, gmail_password):\n",
    "\n",
    "    g = gmail.login(gmail_username, gmail_password)\n",
    "    assert g.logged_in # Should be True, AuthenticationError if login fails\n",
    "    \n",
    "    emails = g.inbox().mail(fr=gmail_username, prefetch=True)\n",
    "    return emails\n"
   ]
  },
  {
   "cell_type": "code",
   "execution_count": null,
   "metadata": {},
   "outputs": [],
   "source": [
    "emails = gmail_sent_to_myself(gmail_username, gmail_password)\n",
    "email = emails[0]\n",
    "email.subject, email.body"
   ]
  },
  {
   "cell_type": "markdown",
   "metadata": {},
   "source": [
    "how are attachments handled?  mimetypes?  Come back to look at http://yuji.wordpress.com/2011/06/22/python-imaplib-imap-example-with-gmail/"
   ]
  },
  {
   "cell_type": "markdown",
   "metadata": {},
   "source": [
    "to send email: https://github.com/paulchakravarti/gmail-sender"
   ]
  },
  {
   "cell_type": "markdown",
   "metadata": {},
   "source": [
    "# Generating email to send to evernote"
   ]
  },
  {
   "cell_type": "markdown",
   "metadata": {},
   "source": [
    "## simple example -- non HTML email w/ no attachment"
   ]
  },
  {
   "cell_type": "code",
   "execution_count": null,
   "metadata": {
    "tags": []
   },
   "outputs": [],
   "source": [
    "# based on http://stackoverflow.com/a/9274387/7782\n",
    "\n",
    "from email.header    import Header\n",
    "from email.mime.text import MIMEText\n",
    "from smtplib         import SMTP_SSL\n",
    "\n",
    "from email.mime.multipart import MIMEMultipart\n",
    "from email.mime.text import MIMEText\n",
    "\n",
    "\n",
    "def simple_email_send(host, login, password, text, subject, from_, to, encoding='utf-8', port=465, timeout=10,\n",
    "                     debug_level=0):\n",
    "    \"\"\"\n",
    "    e.g., host smtp.gmail.com\n",
    "    login, to are email addresses\n",
    "    \"\"\"\n",
    "    \n",
    "    # create message\n",
    "    msg = MIMEText(subject, _charset=encoding)\n",
    "    msg['Subject'] = Header(subject, encoding)\n",
    "    msg['From'] = from_\n",
    "    msg['To'] = to\n",
    "\n",
    "    s = SMTP_SSL(host, port, timeout=timeout)\n",
    "    s.set_debuglevel(debug_level)\n",
    "    try:\n",
    "        s.login(login, password)\n",
    "        s.sendmail(msg['From'], msg['To'], msg.as_string())\n",
    "    finally:\n",
    "        s.quit()    \n",
    "    "
   ]
  },
  {
   "cell_type": "code",
   "execution_count": null,
   "metadata": {
    "tags": []
   },
   "outputs": [],
   "source": [
    "simple_email_send('smtp.gmail.com', gmail_username, gmail_password, \n",
    "                 text = \"\"\"You're in luck, my friend.\"\"\",\n",
    "                 subject='Hello from your friendly Nigerian prince',\n",
    "                 from_ = gmail_username,\n",
    "                 to = gmail_username)"
   ]
  },
  {
   "cell_type": "markdown",
   "metadata": {},
   "source": [
    "time to study the email standard module: http://docs.python.org/2/library/email\n",
    "\n",
    "Maybe a good place to also read -- http://my.safaribooksonline.com/book/programming/python/9781449398712/13dot-client-side-scripting/id4144723"
   ]
  },
  {
   "cell_type": "code",
   "execution_count": null,
   "metadata": {},
   "outputs": [],
   "source": [
    "def send_email_text_html(host, login, password, text, subject, from_, to, html=None, encoding='utf-8', port=465, timeout=10,\n",
    "                     debug_level=0):\n",
    "    \"\"\"\n",
    "    e.g., host smtp.gmail.com\n",
    "    login, to are email addresses\n",
    "    \"\"\"\n",
    "\n",
    "    # create message\n",
    "    \n",
    "    if html is not None:\n",
    "        # Create message container - the correct MIME type is multipart/alternative.\n",
    "        msg = MIMEMultipart('alternative')\n",
    "    else:\n",
    "        msg = MIMEText(subject, _charset=encoding)\n",
    "        \n",
    "    msg['Subject'] = Header(subject, encoding)\n",
    "    msg['From'] = from_\n",
    "    msg['To'] = to\n",
    "\n",
    "    if html is not None:\n",
    "        # Record the MIME types of both parts - text/plain and text/html.\n",
    "        part1 = MIMEText(text, 'plain', _charset=encoding)\n",
    "        part2 = MIMEText(html, 'html', _charset=encoding)\n",
    "\n",
    "        # Attach parts into message container.\n",
    "        # According to RFC 2046, the last part of a multipart message, in this case\n",
    "        # the HTML message, is best and preferred.\n",
    "        msg.attach(part1)\n",
    "        msg.attach(part2)\n",
    "\n",
    "    s = SMTP_SSL(host, port, timeout=timeout)\n",
    "    s.set_debuglevel(debug_level)\n",
    "    try:\n",
    "        s.login(login, password)\n",
    "        s.sendmail(msg['From'], msg['To'], msg.as_string())\n",
    "    finally:\n",
    "        s.quit()  "
   ]
  },
  {
   "cell_type": "code",
   "execution_count": null,
   "metadata": {},
   "outputs": [],
   "source": [
    "text = \"Hi!\\nHow are you?\\nHere is the link you wanted:\\nhttp://www.python.org\"\n",
    "html = \"\"\"\\\n",
    "<html>\n",
    "  <head>\n",
    "    <title>An email</title>\n",
    "  </head>\n",
    "  <body>\n",
    "    <p>Hi!<br/>\n",
    "       How are you?<br/>\n",
    "       <span style=\"color:red\">styled span</span><br/>\n",
    "       Here is the <a href=\"http://www.python.org\">link</a> you wanted.\n",
    "    </p>\n",
    "    <img src=\"http://upload.wikimedia.org/wikipedia/commons/thumb/6/6a/Johann_Sebastian_Bach.jpg/220px-Johann_Sebastian_Bach.jpg\"/>\n",
    "  </body>\n",
    "</html>\n",
    "\"\"\"\n",
    "\n",
    "send_email_text_html('smtp.gmail.com', gmail_username, gmail_password, \n",
    "                 text = text,\n",
    "                 subject='send_email_text_html TEST',\n",
    "                 from_ = gmail_username,\n",
    "                 to = gmail_username,\n",
    "                 html = html)"
   ]
  },
  {
   "cell_type": "code",
   "execution_count": null,
   "metadata": {},
   "outputs": [],
   "source": [
    "# this routine works when html is None too\n",
    "\n",
    "send_email_text_html('smtp.gmail.com', gmail_username, gmail_password, \n",
    "                 text = \"\"\"You're in luck, my friend.\"\"\",\n",
    "                 subject='Hello from your friendly Nigerian prince',\n",
    "                 from_ = gmail_username,\n",
    "                 to = gmail_username,\n",
    "                 html=None)"
   ]
  },
  {
   "cell_type": "code",
   "execution_count": null,
   "metadata": {},
   "outputs": [],
   "source": [
    "# next question:  inlining of CSS done for us by Evernote?  Answer is NO."
   ]
  },
  {
   "cell_type": "markdown",
   "metadata": {},
   "source": [
    "Working conclusion: we have to do our own CSS inlining for email and for Evernote"
   ]
  },
  {
   "cell_type": "markdown",
   "metadata": {},
   "source": [
    "# pynliner\n",
    "\n",
    "* [rennat/pynliner: Python CSS-to-inline-styles conversion tool for HTML using BeautifulSoup and cssutils](https://github.com/rennat/pynliner)\n",
    "* [pynliner — pynliner 0.8.0 documentation](https://pythonhosted.org/pynliner/#example)"
   ]
  },
  {
   "cell_type": "code",
   "execution_count": null,
   "metadata": {},
   "outputs": [],
   "source": [
    "!pip freeze | grep pynliner"
   ]
  },
  {
   "cell_type": "code",
   "execution_count": null,
   "metadata": {},
   "outputs": [],
   "source": [
    "# http://pythonhosted.org/pynliner/\n",
    "# pip install pynliner\n",
    "\n",
    "import pynliner\n",
    "html = u'<style>h1 { color:#ffcc00; }</style><h1>Hello World!</h1>'\n",
    "\n",
    "output = pynliner.fromString(html)\n",
    "output"
   ]
  },
  {
   "cell_type": "code",
   "execution_count": null,
   "metadata": {},
   "outputs": [],
   "source": [
    "from pynliner import Pynliner\n",
    "\n",
    "html = \"<h1>Hello World!</h1>\"\n",
    "css = \"h1 { color:#ffcc00; }\"\n",
    "p = Pynliner()\n",
    "p.from_string(html).with_cssString(css)\n",
    "p.run()"
   ]
  },
  {
   "cell_type": "code",
   "execution_count": null,
   "metadata": {},
   "outputs": [],
   "source": [
    "# Python 2\n",
    "\n",
    "from urllib2 import urlopen\n",
    "\n",
    "url = 'http://mashupguide.net/1.0/html/'\n",
    "fallback_encoding = 'UTF-8'\n",
    "\n",
    "response = urlopen(url)\n",
    "the_page = response.read()\n",
    "\n",
    "encoding = response.headers.getparam(\"charset\")\n",
    "if encoding is None:\n",
    "    encoding = fallback_encoding\n",
    "    \n",
    "content = the_page.decode(encoding)\n",
    "\n",
    "print (encoding, type(content), content[:100])"
   ]
  },
  {
   "cell_type": "code",
   "execution_count": null,
   "metadata": {},
   "outputs": [],
   "source": [
    "import requests\n",
    "\n",
    "url = 'http://mashupguide.net/1.0/html/'\n",
    "r = requests.get(url)\n",
    "r.headers"
   ]
  },
  {
   "cell_type": "code",
   "execution_count": null,
   "metadata": {},
   "outputs": [],
   "source": [
    "from pynliner import Pynliner\n",
    "\n",
    "p = Pynliner()\n",
    "p.from_url('http://mashupguide.net/1.0/html/')\n",
    "html = p.run()\n"
   ]
  },
  {
   "cell_type": "code",
   "execution_count": null,
   "metadata": {},
   "outputs": [],
   "source": [
    "send_email_text_html('smtp.gmail.com', gmail_username, gmail_password, \n",
    "                 text = text,\n",
    "                 subject='mashupguide toc',\n",
    "                 from_ = gmail_username,\n",
    "                 to = evernote_email,\n",
    "                 html = html)"
   ]
  },
  {
   "cell_type": "markdown",
   "metadata": {},
   "source": [
    "# premailer"
   ]
  },
  {
   "cell_type": "markdown",
   "metadata": {},
   "source": [
    "https://github.com/peterbe/premailer\n",
    "\n",
    "    pip install premailer"
   ]
  },
  {
   "cell_type": "code",
   "execution_count": null,
   "metadata": {},
   "outputs": [],
   "source": [
    "!pip freeze | grep premailer"
   ]
  },
  {
   "cell_type": "code",
   "execution_count": null,
   "metadata": {},
   "outputs": [],
   "source": [
    "from premailer import transform\n",
    "\n",
    "print(transform(\"\"\"\n",
    "         <html>\n",
    "         <style type=\"text/css\">\n",
    "         h1 { border:1px solid black }\n",
    "            p { color:red;}\n",
    "            p::first-letter { float:left; }\n",
    "         </style>\n",
    "         <h1 style=\"font-weight:bolder\">Peter</h1>\n",
    "             <p>Hej</p>\n",
    "         </html>\"\"\"))"
   ]
  },
  {
   "cell_type": "code",
   "execution_count": null,
   "metadata": {},
   "outputs": [],
   "source": [
    "url = \"http://mashupguide.net/1.0/html/\"\n",
    "\n",
    "import requests\n",
    "r = requests.get(url=url)\n",
    "r"
   ]
  },
  {
   "cell_type": "code",
   "execution_count": null,
   "metadata": {},
   "outputs": [],
   "source": [
    "r.text.encode('ascii', 'ignore')"
   ]
  },
  {
   "cell_type": "code",
   "execution_count": null,
   "metadata": {},
   "outputs": [],
   "source": [
    "import requests\n",
    "from premailer import transform\n",
    "\n",
    "url = \"http://mashupguide.net/1.0/html/\"\n",
    "\n",
    "r = requests.get(url=url)\n",
    "# transforming to ascii to get around what seems to be a bug in premailer\n",
    "t = transform(r.text.encode('ascii', 'ignore'), base_url=url)\n",
    "print(t)"
   ]
  },
  {
   "cell_type": "code",
   "execution_count": null,
   "metadata": {},
   "outputs": [],
   "source": [
    "# based on http://docs.python.org/2/library/email-examples.html\n",
    "\n",
    "import smtplib\n",
    "from smtplib import SMTP_SSL\n",
    "\n",
    "from email.mime.multipart import MIMEMultipart\n",
    "from email.mime.text import MIMEText\n",
    "\n",
    "# me == my email address\n",
    "# you == recipient's email address\n",
    "\n",
    "from settings import (gmail_username, gmail_password, evernote_email)\n",
    "\n",
    "me = gmail_username\n",
    "you = evernote_email\n",
    "\n",
    "# Create message container - the correct MIME type is multipart/alternative.\n",
    "msg = MIMEMultipart('alternative')\n",
    "msg['Subject'] = \"Link\"\n",
    "msg['From'] = me\n",
    "msg['To'] = you\n",
    "\n",
    "# Create the body of the message (a plain-text and an HTML version).\n",
    "\n",
    "text = url\n",
    "\n",
    "import requests\n",
    "from premailer import transform\n",
    "\n",
    "url = \"http://mashupguide.net/1.0/html/\"\n",
    "\n",
    "r = requests.get(url=url)\n",
    "# work around to do ascii decoding\n",
    "html = transform(r.text.encode('ascii', 'ignore'), base_url=url)\n",
    "\n",
    "\n",
    "# Record the MIME types of both parts - text/plain and text/html.\n",
    "part1 = MIMEText(text, 'plain')\n",
    "part2 = MIMEText(html, 'html')\n",
    "\n",
    "# Attach parts into message container.\n",
    "# According to RFC 2046, the last part of a multipart message, in this case\n",
    "# the HTML message, is best and preferred.\n",
    "msg.attach(part1)\n",
    "msg.attach(part2)\n",
    "\n",
    "login, password = gmail_username, gmail_password\n",
    "# send it via gmail\n",
    "s = SMTP_SSL('smtp.gmail.com', 465, timeout=10)\n",
    "s.set_debuglevel(0)\n",
    "try:\n",
    "    s.login(login, password)\n",
    "    s.sendmail(msg['From'], msg['To'], msg.as_string())\n",
    "finally:\n",
    "    s.quit()"
   ]
  },
  {
   "cell_type": "markdown",
   "metadata": {},
   "source": [
    "problem:  although the relative URIs are converted to absolute URIs, `premailer` doesn't handle external CSS files: https://github.com/peterbe/premailer/issues/6\n",
    "\n",
    "\n",
    "Solution:  come back to parse HTML and turn external CSS references to embedded style: http://lxml.de/parsing.html"
   ]
  },
  {
   "cell_type": "code",
   "execution_count": null,
   "metadata": {},
   "outputs": [],
   "source": [
    "# based on http://docs.python.org/2/library/email-examples.html\n",
    "\n",
    "import smtplib\n",
    "from smtplib import SMTP_SSL\n",
    "\n",
    "from email.mime.multipart import MIMEMultipart\n",
    "from email.mime.text import MIMEText\n",
    "\n",
    "# me == my email address\n",
    "# you == recipient's email address\n",
    "\n",
    "from settings import (gmail_username, gmail_password, evernote_email)\n",
    "\n",
    "me = gmail_username\n",
    "you = evernote_email\n",
    "\n",
    "# Create message container - the correct MIME type is multipart/alternative.\n",
    "msg = MIMEMultipart('alternative')\n",
    "msg['Subject'] = \"Link\"\n",
    "msg['From'] = me\n",
    "msg['To'] = you\n",
    "\n",
    "# Create the body of the message (a plain-text and an HTML version).\n",
    "\n",
    "text = url\n",
    "\n",
    "import requests\n",
    "from premailer import transform\n",
    "\n",
    "mashupsource = open(\"mashupguidetoc.html\").read()\n",
    "\n",
    "html = transform(mashupsource, base_url=url)\n",
    "\n",
    "\n",
    "# Record the MIME types of both parts - text/plain and text/html.\n",
    "part1 = MIMEText(text, 'plain')\n",
    "part2 = MIMEText(html, 'html')\n",
    "\n",
    "# Attach parts into message container.\n",
    "# According to RFC 2046, the last part of a multipart message, in this case\n",
    "# the HTML message, is best and preferred.\n",
    "msg.attach(part1)\n",
    "msg.attach(part2)\n",
    "\n",
    "login, password = gmail_username, gmail_password\n",
    "# send it via gmail\n",
    "s = SMTP_SSL('smtp.gmail.com', 465, timeout=10)\n",
    "s.set_debuglevel(0)\n",
    "try:\n",
    "    s.login(login, password)\n",
    "    s.sendmail(msg['From'], msg['To'], msg.as_string())\n",
    "finally:\n",
    "    s.quit()"
   ]
  },
  {
   "cell_type": "code",
   "execution_count": null,
   "metadata": {},
   "outputs": [],
   "source": [
    "print html"
   ]
  },
  {
   "cell_type": "markdown",
   "metadata": {},
   "source": [
    "# instyle-mailer"
   ]
  },
  {
   "cell_type": "code",
   "execution_count": null,
   "metadata": {},
   "outputs": [],
   "source": []
  }
 ],
 "metadata": {
  "anaconda-cloud": {},
  "kernelspec": {
   "display_name": "Python 3 (ipykernel)",
   "language": "python",
   "name": "python3"
  },
  "language_info": {
   "codemirror_mode": {
    "name": "ipython",
    "version": 3
   },
   "file_extension": ".py",
   "mimetype": "text/x-python",
   "name": "python",
   "nbconvert_exporter": "python",
   "pygments_lexer": "ipython3",
   "version": "3.9.13"
  }
 },
 "nbformat": 4,
 "nbformat_minor": 4
}
