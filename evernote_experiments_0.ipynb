{
 "metadata": {
  "name": ""
 },
 "nbformat": 3,
 "nbformat_minor": 0,
 "worksheets": [
  {
   "cells": [
    {
     "cell_type": "markdown",
     "metadata": {},
     "source": [
      "# imports needed"
     ]
    },
    {
     "cell_type": "markdown",
     "metadata": {},
     "source": [
      "What library am I using?\n",
      "\n",
      "\n",
      "http://dev.evernote.com/\n",
      "\n",
      "\n",
      "When I'm ready I would hit a Get API key button and fill out the form: https://www.evernote.com/shard/s1/sh/e03e0393-b2cb-4a54-94d1-60e65f482ad3/bb93b060e287d4d979fef70d7b997df9\n",
      "\n",
      "\n",
      "Docs:\n",
      "\n",
      "* [The Evernote SDK for Python Quick-start Guide](http://dev.evernote.com/start/guides/python.php)\n",
      "* [Evernote SDK for JavaScript Quick-start Guide](http://dev.evernote.com/start/guides/javascript.php)\n",
      "\n",
      "In getting started, you can take one or both of the following approaches:\n",
      "\n",
      "* get a key set up for the sandbox\n",
      "* set up a dev key to work with your own account and not worry about Oauth initially.\n",
      "\n",
      "you can have a dev token for both the **sandbox** and for production to access production accounts:\n",
      "\n",
      "* https://sandbox.evernote.com/api/DeveloperToken.action\n",
      "* https://www.evernote.com/api/DeveloperToken.action\n",
      "\n",
      "\n",
      "EvernoteWebUtil is my wrapper for ..."
     ]
    },
    {
     "cell_type": "code",
     "collapsed": false,
     "input": [
      "import settings\n",
      "from evernote.api.client import EvernoteClient\n",
      "\n",
      "dev_token = settings.authToken\n",
      "\n",
      "client = EvernoteClient(token=dev_token, sandbox=False)\n",
      "\n",
      "userStore = client.get_user_store()\n",
      "user = userStore.getUser()\n",
      "print user.username\n"
     ],
     "language": "python",
     "metadata": {},
     "outputs": []
    },
    {
     "cell_type": "code",
     "collapsed": false,
     "input": [
      "import EvernoteWebUtil as ewu\n",
      "reload(ewu)\n",
      "\n",
      "ewu.user.username"
     ],
     "language": "python",
     "metadata": {},
     "outputs": []
    },
    {
     "cell_type": "heading",
     "level": 1,
     "metadata": {},
     "source": [
      "noteStore"
     ]
    },
    {
     "cell_type": "markdown",
     "metadata": {},
     "source": [
      "http://dev.evernote.com/documentation/reference/NoteStore.html#Svc_NoteStore"
     ]
    },
    {
     "cell_type": "heading",
     "level": 1,
     "metadata": {},
     "source": [
      "getting notebook by name"
     ]
    },
    {
     "cell_type": "code",
     "collapsed": false,
     "input": [
      "# getting notes for a given notebook\n",
      "\n",
      "import datetime\n",
      "\n",
      "from itertools import islice\n",
      "notes = islice(ewu.notes_metadata(includeTitle=True, \n",
      "                                  includeUpdated=True,\n",
      "                                  includeUpdateSequenceNum=True,\n",
      "                                  notebookGuid=ewu.notebook(name=':CORE').guid), None)\n",
      "\n",
      "for note in notes:\n",
      "    print note.title, note.updateSequenceNum, datetime.datetime.fromtimestamp(note.updated/1000.)\n",
      "    "
     ],
     "language": "python",
     "metadata": {},
     "outputs": []
    },
    {
     "cell_type": "code",
     "collapsed": false,
     "input": [
      "# let's read my __MASTER note__\n",
      "# is it possible to search notes by title?\n",
      "\n",
      "[(n.guid, n.title) for n in ewu.notes(title=\".__MASTER note__\")]\n"
     ],
     "language": "python",
     "metadata": {},
     "outputs": []
    },
    {
     "cell_type": "code",
     "collapsed": false,
     "input": [
      "import settings\n",
      "from evernote.api.client import EvernoteClient\n",
      "\n",
      "dev_token = settings.authToken\n",
      "\n",
      "client = EvernoteClient(token=dev_token, sandbox=False)\n",
      "\n",
      "userStore = client.get_user_store()\n",
      "user = userStore.getUser()\n",
      "\n",
      "noteStore = client.get_note_store()\n",
      "\n",
      "print user.username"
     ],
     "language": "python",
     "metadata": {},
     "outputs": []
    },
    {
     "cell_type": "code",
     "collapsed": false,
     "input": [
      "userStore.getUser()\n",
      "noteStore.getNoteContent('ecc59d05-c010-4b3b-a04b-7d4eeb7e8505')"
     ],
     "language": "python",
     "metadata": {},
     "outputs": []
    },
    {
     "cell_type": "markdown",
     "metadata": {},
     "source": [
      "my `.__MASTER note__` is actually pretty complex....so parsing it and adding to it will take some effort.  But let's give it a try."
     ]
    },
    {
     "cell_type": "heading",
     "level": 1,
     "metadata": {},
     "source": [
      "Working with Note Contents"
     ]
    },
    {
     "cell_type": "markdown",
     "metadata": {},
     "source": [
      "Things to figure out:\n",
      "\n",
      "* XML parsing\n",
      "* XML creation\n",
      "* XML validation via schema\n"
     ]
    },
    {
     "cell_type": "code",
     "collapsed": false,
     "input": [
      "import lxml"
     ],
     "language": "python",
     "metadata": {},
     "outputs": []
    },
    {
     "cell_type": "heading",
     "level": 1,
     "metadata": {},
     "source": [
      "Getting tags by name"
     ]
    },
    {
     "cell_type": "code",
     "collapsed": false,
     "input": [
      "ewu.tag('#1-Now')"
     ],
     "language": "python",
     "metadata": {},
     "outputs": []
    },
    {
     "cell_type": "code",
     "collapsed": false,
     "input": [
      "sorted(ewu.tag_counts_by_name().items(), key=lambda x: -x[1])[:10]\n"
     ],
     "language": "python",
     "metadata": {},
     "outputs": []
    },
    {
     "cell_type": "code",
     "collapsed": false,
     "input": [
      "tags = ewu.noteStore.listTags()\n",
      "tags_by_name = dict([(tag.name, tag) for tag in tags])\n",
      "tag_counts_by_name = ewu.tag_counts_by_name()\n",
      "tags_by_guid = ewu.tags_by_guid()"
     ],
     "language": "python",
     "metadata": {},
     "outputs": []
    },
    {
     "cell_type": "code",
     "collapsed": false,
     "input": [
      "# figure out which tags have no notes attached and possibly delete them -- say if they don't have children tags\n",
      "# oh -- don't delete them willy nilly -- some have organizational purposes\n",
      "\n",
      "set(tags_by_name) - set(tag_counts_by_name)"
     ],
     "language": "python",
     "metadata": {},
     "outputs": []
    },
    {
     "cell_type": "code",
     "collapsed": false,
     "input": [
      "# calculated tag_children -- tags that have children\n",
      "\n",
      "from collections import defaultdict\n",
      "\n",
      "tag_children = defaultdict(list)\n",
      "for tag in tags:\n",
      "    if tag.parentGuid is not None:\n",
      "        tag_children[tag.parentGuid].append(tag)\n",
      "        "
     ],
     "language": "python",
     "metadata": {},
     "outputs": []
    },
    {
     "cell_type": "code",
     "collapsed": false,
     "input": [
      "[tags_by_guid[guid].name for guid in tag_children.keys()]"
     ],
     "language": "python",
     "metadata": {},
     "outputs": []
    },
    {
     "cell_type": "code",
     "collapsed": false,
     "input": [
      "for (guid, children) in tag_children.items():\n",
      "    print tags_by_guid[guid].name\n",
      "    for child in children:\n",
      "        print \"\\t\", child.name"
     ],
     "language": "python",
     "metadata": {},
     "outputs": []
    },
    {
     "cell_type": "markdown",
     "metadata": {},
     "source": [
      "things to do with tags\n",
      "\n",
      "* find all notes for a given tag\n",
      "* get tag guid, name, count, parent / check for existence\n",
      "* create new tag\n",
      "* delete tag\n",
      "* move tag to new parent\n",
      "* expunge tags -- disconnect tags from notes\n",
      "* can we get history of a tag:  when created?\n",
      "* dealing with deleted tags\n",
      "* find \"related\" tags -- in the Evernote client, when I click on a specific tag, it seems like I see the highlighting of other, possibly related, tags -- http://dev.evernote.com/documentation/reference/NoteStore.html#Fn_NoteStore_findRelated ?\n",
      "\n",
      "I will also want to locate notes that have a certain tag or set of tags and are in a certain notebook."
     ]
    },
    {
     "cell_type": "code",
     "collapsed": false,
     "input": [
      "# find all notes for a given tag\n",
      "\n",
      "[n.title for n in ewu.notes_metadata(includeTitle=True, tagGuids=[tags_by_name['#1-Now'].guid])]"
     ],
     "language": "python",
     "metadata": {},
     "outputs": []
    },
    {
     "cell_type": "code",
     "collapsed": false,
     "input": [
      "ewu.notebook(name='Action Pending').guid"
     ],
     "language": "python",
     "metadata": {},
     "outputs": []
    },
    {
     "cell_type": "code",
     "collapsed": false,
     "input": [
      "[n.title for n in ewu.notes_metadata(includeTitle=True, \n",
      "                         notebookGuid=ewu.notebook(name='Action Pending').guid, \n",
      "                         tagGuids=[tags_by_name['#1-Now'].guid])]"
     ],
     "language": "python",
     "metadata": {},
     "outputs": []
    },
    {
     "cell_type": "code",
     "collapsed": false,
     "input": [
      "# with a GUID, you can get the current state of a tag\n",
      "# http://dev.evernote.com/documentation/reference/NoteStore.html#Fn_NoteStore_getTag\n",
      "# not super useful for me since I'm already pulling a list of all tags in order to map names to guids\n",
      "\n",
      "ewu.noteStore.getTag(ewu.tag(name='#1-Now').guid) "
     ],
     "language": "python",
     "metadata": {},
     "outputs": []
    },
    {
     "cell_type": "code",
     "collapsed": false,
     "input": [
      "# create a tag\n",
      "# http://dev.evernote.com/documentation/reference/NoteStore.html#Fn_NoteStore_createTag\n",
      "# must pass name; optional to pass \n",
      "\n",
      "from evernote.edam.type.ttypes import Tag\n",
      "\n",
      "ewu.noteStore.createTag(Tag(name=\"happy happy2!\", parentGuid=None))"
     ],
     "language": "python",
     "metadata": {},
     "outputs": []
    },
    {
     "cell_type": "code",
     "collapsed": false,
     "input": [
      "ewu.tag(name=\"happy happy2!\", refresh=True)"
     ],
     "language": "python",
     "metadata": {},
     "outputs": []
    },
    {
     "cell_type": "code",
     "collapsed": false,
     "input": [
      "# expunge tag\n",
      "# http://dev.evernote.com/documentation/reference/NoteStore.html#Fn_NoteStore_expungeTag\n",
      "\n",
      "ewu.noteStore.expungeTag(ewu.tag(\"happy happy2!\").guid)"
     ],
     "language": "python",
     "metadata": {},
     "outputs": []
    },
    {
     "cell_type": "code",
     "collapsed": false,
     "input": [
      "# find all notes for a given tag and notebook\n",
      "\n",
      "action_now_notes = list(ewu.notes_metadata(includeTitle=True, \n",
      "          notebookGuid=ewu.notebook(name='Action Pending').guid, \n",
      "          tagGuids=[tags_by_name['#1-Now'].guid]))\n",
      "\n",
      "[(n.guid, n.title) for n in action_now_notes ]"
     ],
     "language": "python",
     "metadata": {},
     "outputs": []
    },
    {
     "cell_type": "code",
     "collapsed": false,
     "input": [
      "# get all tags for a given note\n",
      "\n",
      "import datetime\n",
      "\n",
      "from itertools import islice\n",
      "notes = list(islice(ewu.notes_metadata(includeTitle=True, \n",
      "                                  includeUpdated=True,\n",
      "                                  includeUpdateSequenceNum=True,\n",
      "                                  notebookGuid=ewu.notebook(name=':PROJECTS').guid), None))\n",
      "\n",
      "plus_tags_set = set()\n",
      "\n",
      "for note in notes:\n",
      "    tags = ewu.noteStore.getNoteTagNames(note.guid)\n",
      "    plus_tags = [tag for tag in tags if tag.startswith(\"+\")]\n",
      "    \n",
      "    plus_tags_set.update(plus_tags)\n",
      "    print note.title, note.updateSequenceNum, datetime.datetime.fromtimestamp(note.updated/1000.),  \\\n",
      "         len(plus_tags) == 1\n",
      "        "
     ],
     "language": "python",
     "metadata": {},
     "outputs": []
    },
    {
     "cell_type": "heading",
     "level": 1,
     "metadata": {},
     "source": [
      "synchronization state"
     ]
    },
    {
     "cell_type": "code",
     "collapsed": false,
     "input": [
      "syncstate = ewu.noteStore.getSyncState()\n",
      "syncstate"
     ],
     "language": "python",
     "metadata": {},
     "outputs": []
    },
    {
     "cell_type": "code",
     "collapsed": false,
     "input": [
      "syncstate.fullSyncBefore, syncstate.updateCount"
     ],
     "language": "python",
     "metadata": {},
     "outputs": []
    },
    {
     "cell_type": "code",
     "collapsed": false,
     "input": [
      "import datetime\n",
      "datetime.datetime.fromtimestamp(syncstate.fullSyncBefore/1000.)"
     ],
     "language": "python",
     "metadata": {},
     "outputs": []
    },
    {
     "cell_type": "markdown",
     "metadata": {},
     "source": [
      "# list notebooks and note counts"
     ]
    },
    {
     "cell_type": "code",
     "collapsed": false,
     "input": [
      "ewu.notebookcounts()"
     ],
     "language": "python",
     "metadata": {},
     "outputs": []
    },
    {
     "cell_type": "markdown",
     "metadata": {},
     "source": [
      "# compute distribution of note sizes"
     ]
    },
    {
     "cell_type": "code",
     "collapsed": false,
     "input": [
      "k = list(ewu.sizes_of_notes())\n",
      "print len(k)"
     ],
     "language": "python",
     "metadata": {},
     "outputs": []
    },
    {
     "cell_type": "code",
     "collapsed": false,
     "input": [
      "plt.plot(k)"
     ],
     "language": "python",
     "metadata": {},
     "outputs": []
    },
    {
     "cell_type": "code",
     "collapsed": false,
     "input": [
      "sort(k)"
     ],
     "language": "python",
     "metadata": {},
     "outputs": []
    },
    {
     "cell_type": "code",
     "collapsed": false,
     "input": [
      "plt.plot(sort(k))"
     ],
     "language": "python",
     "metadata": {},
     "outputs": []
    },
    {
     "cell_type": "code",
     "collapsed": false,
     "input": [
      "plt.plot([log(i) for i in sort(k)])"
     ],
     "language": "python",
     "metadata": {},
     "outputs": []
    },
    {
     "cell_type": "code",
     "collapsed": false,
     "input": [
      "\"\"\"\n",
      "Make a histogram of normally distributed random numbers and plot the\n",
      "analytic PDF over it\n",
      "\"\"\"\n",
      "import numpy as np\n",
      "import matplotlib.pyplot as plt\n",
      "import matplotlib.mlab as mlab\n",
      "\n",
      "mu, sigma = 100, 15\n",
      "x = mu + sigma * np.random.randn(10000)\n",
      "\n",
      "fig = plt.figure()\n",
      "ax = fig.add_subplot(111)\n",
      "\n",
      "# the histogram of the data\n",
      "n, bins, patches = ax.hist(x, 50, normed=1, facecolor='green', alpha=0.75)\n",
      "\n",
      "# hist uses np.histogram under the hood to create 'n' and 'bins'.\n",
      "# np.histogram returns the bin edges, so there will be 50 probability\n",
      "# density values in n, 51 bin edges in bins and 50 patches.  To get\n",
      "# everything lined up, we'll compute the bin centers\n",
      "bincenters = 0.5*(bins[1:]+bins[:-1])\n",
      "# add a 'best fit' line for the normal PDF\n",
      "y = mlab.normpdf( bincenters, mu, sigma)\n",
      "l = ax.plot(bincenters, y, 'r--', linewidth=1)\n",
      "\n",
      "ax.set_xlabel('Smarts')\n",
      "ax.set_ylabel('Probability')\n",
      "#ax.set_title(r'$\\mathrm{Histogram\\ of\\ IQ:}\\ \\mu=100,\\ \\sigma=15$')\n",
      "ax.set_xlim(40, 160)\n",
      "ax.set_ylim(0, 0.03)\n",
      "ax.grid(True)\n",
      "\n",
      "plt.show()"
     ],
     "language": "python",
     "metadata": {},
     "outputs": []
    },
    {
     "cell_type": "code",
     "collapsed": false,
     "input": [
      "plt.hist(k)"
     ],
     "language": "python",
     "metadata": {},
     "outputs": []
    },
    {
     "cell_type": "code",
     "collapsed": false,
     "input": [
      "plt.hist([log10(i) for i in k], 50)"
     ],
     "language": "python",
     "metadata": {},
     "outputs": []
    },
    {
     "cell_type": "code",
     "collapsed": false,
     "input": [
      "# calculate Notebook name -> note count\n",
      "\n",
      "nb_guid_dict = dict([(nb.guid, nb) for nb in ewu.all_notebooks()])\n",
      "nb_name_dict = dict([(nb.name, nb) for nb in ewu.all_notebooks()])"
     ],
     "language": "python",
     "metadata": {},
     "outputs": []
    },
    {
     "cell_type": "code",
     "collapsed": false,
     "input": [
      "ewu.notes_metadata(includeTitle=True)"
     ],
     "language": "python",
     "metadata": {},
     "outputs": []
    },
    {
     "cell_type": "code",
     "collapsed": false,
     "input": [
      "import itertools"
     ],
     "language": "python",
     "metadata": {},
     "outputs": []
    },
    {
     "cell_type": "code",
     "collapsed": false,
     "input": [
      "g = itertools.islice(ewu.notes_metadata(includeTitle=True, includeUpdateSequenceNum=True, notebookGuid=nb_name_dict[\"Action Pending\"].guid), 10)"
     ],
     "language": "python",
     "metadata": {},
     "outputs": []
    },
    {
     "cell_type": "code",
     "collapsed": false,
     "input": [
      "list(g)"
     ],
     "language": "python",
     "metadata": {},
     "outputs": []
    },
    {
     "cell_type": "code",
     "collapsed": false,
     "input": [
      "len(_)"
     ],
     "language": "python",
     "metadata": {},
     "outputs": []
    },
    {
     "cell_type": "code",
     "collapsed": true,
     "input": [
      "# grab content of a specific note\n",
      "\n",
      "# http://dev.evernote.com/documentation/reference/NoteStore.html#Fn_NoteStore_getNote\n",
      "# params: guid, withContent, withResourcesData, withResourcesRecognition, withResourcesAlternateData\n",
      "\n",
      "note = ewu.noteStore.getNote('a49d531e-f3f8-4e72-9523-e5a558f11d87', True, False, False, False)\n",
      "\n",
      "\n",
      "\n",
      "note_content = ewu.noteStore.getNoteContent('a49d531e-f3f8-4e72-9523-e5a558f11d87')\n",
      "\n",
      "note_content"
     ],
     "language": "python",
     "metadata": {},
     "outputs": []
    },
    {
     "cell_type": "markdown",
     "metadata": {},
     "source": [
      "\n",
      "# creating a new note with content and tag\n",
      "\n",
      " * `Note` type\n",
      " * `noteStore.createNote`\n",
      " * nice to have convenience of not having to calculate tag guids"
     ]
    },
    {
     "cell_type": "code",
     "collapsed": false,
     "input": [
      "import EvernoteWebUtil as ewu\n",
      "reload(ewu)\n",
      "\n",
      "from evernote.edam.type.ttypes import Note\n",
      "\n",
      "note_template = \"\"\"<?xml version=\"1.0\" encoding=\"UTF-8\" standalone=\"no\"?>\n",
      "<!DOCTYPE en-note SYSTEM \"http://xml.evernote.com/pub/enml2.dtd\">\n",
      "<en-note style=\"word-wrap: break-word; -webkit-nbsp-mode: space; -webkit-line-break: after-white-space;\">\n",
      "{0}\n",
      "</en-note>\"\"\"\n",
      "\n",
      "note = Note()\n",
      "note.title = \"hello from ipython\"\n",
      "note.content = note_template.format(\"hello from Canada 2\")\n",
      "note.tagNames = [\"hello world\"]\n",
      "\n",
      "note = ewu.noteStore.createNote(note)\n",
      "\n",
      "note.guid"
     ],
     "language": "python",
     "metadata": {},
     "outputs": []
    },
    {
     "cell_type": "code",
     "collapsed": false,
     "input": [
      "assert False"
     ],
     "language": "python",
     "metadata": {},
     "outputs": []
    },
    {
     "cell_type": "markdown",
     "metadata": {},
     "source": [
      "# Move Evernote tags to have a different parent "
     ]
    },
    {
     "cell_type": "code",
     "collapsed": false,
     "input": [
      "from evernote.edam.type.ttypes import Tag\n",
      "import EvernoteWebUtil as ewu\n",
      "\n",
      "tags = ewu.noteStore.listTags()\n",
      "tags_by_name = dict([(tag.name, tag) for tag in tags])\n",
      "\n",
      "print tags_by_name['+JoinTheAction'], tags_by_name['.Active Projects']\n",
      "\n",
      "# update +JoinTheAction tag to put it underneath .Active Projects\n",
      "\n",
      "jta_tag = tags_by_name['+JoinTheAction']\n",
      "jta_tag.parentGuid = tags_by_name['.Active Projects'].guid\n",
      "\n",
      "result = ewu.noteStore.updateTag(Tag(name=jta_tag.name, guid=jta_tag.guid, parentGuid=tags_by_name['.Active Projects'].guid))\n",
      "print result\n",
      "\n",
      "# mark certain project as inactive\n",
      "\n",
      "result = ewu.noteStore.updateTag(Tag(name=\"+Relaunch unglue.it\", \n",
      "                 guid=tags_by_name[\"+Relaunch unglue.it\"].guid, \n",
      "                 parentGuid=tags_by_name['.Inactive Projects'].guid))\n",
      "\n"
     ],
     "language": "python",
     "metadata": {},
     "outputs": []
    },
    {
     "cell_type": "code",
     "collapsed": false,
     "input": [
      "# getTag?\n",
      "\n",
      "ewu.noteStore.getTag(tags_by_name['+JoinTheAction'].guid)"
     ],
     "language": "python",
     "metadata": {},
     "outputs": []
    },
    {
     "cell_type": "code",
     "collapsed": false,
     "input": [
      "tags_by_name[\"+Relaunch unglue.it\"]"
     ],
     "language": "python",
     "metadata": {},
     "outputs": []
    },
    {
     "cell_type": "code",
     "collapsed": false,
     "input": [
      "result = ewu.noteStore.updateTag(ewu.authToken, Tag(name=\"+Relaunch unglue.it\", \n",
      "                 guid=tags_by_name[\"+Relaunch unglue.it\"].guid, \n",
      "                 parentGuid=tags_by_name['.Inactive Projects'].guid))"
     ],
     "language": "python",
     "metadata": {},
     "outputs": []
    }
   ],
   "metadata": {}
  }
 ]
}